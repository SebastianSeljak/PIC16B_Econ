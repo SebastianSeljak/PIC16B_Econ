{
 "cells": [
  {
   "cell_type": "markdown",
   "metadata": {},
   "source": [
    "### Imports"
   ]
  },
  {
   "cell_type": "code",
   "execution_count": 1,
   "metadata": {},
   "outputs": [],
   "source": [
    "import sqlite3 as sql\n",
    "import pandas as pd\n",
    "import torch.nn as nn\n",
    "import torch\n",
    "import numpy as np\n",
    "from torch.utils.data import Dataset\n",
    "from torch.utils.data import DataLoader\n",
    "from sklearn.preprocessing import OneHotEncoder\n",
    "import tqdm\n",
    "import random\n",
    "import matplotlib.pyplot as plt\n",
    "from models import *\n",
    "from utils import *"
   ]
  },
  {
   "cell_type": "markdown",
   "metadata": {},
   "source": [
    "### Model Loading"
   ]
  },
  {
   "cell_type": "code",
   "execution_count": 2,
   "metadata": {},
   "outputs": [],
   "source": [
    "import pickle\n",
    "# Load the model from the file\n",
    "with open('models/model_combined.pkl', 'rb') as f:\n",
    "    model, loss_data= pickle.load(f)"
   ]
  },
  {
   "cell_type": "code",
   "execution_count": null,
   "metadata": {},
   "outputs": [],
   "source": [
    "def generate_state_predictions(model, unemployment_rate, industry_code):\n",
    "    \"\"\"\n",
    "    Generate predictions for each state based on the given model and encoders.\n",
    "\n",
    "    Parameters:\n",
    "    model (torch.nn.Module): The trained model for prediction.\n",
    "    state_encoder (OneHotEncoder): Encoder for state names.\n",
    "    industry_encoder (OneHotEncoder): Encoder for industry codes.\n",
    "    state_dict (dict): Dictionary mapping state indices to state abbreviations.\n",
    "    naics_codes (list): List of NAICS industry codes.\n",
    "    industry_code (str): The NAICS code for the industry of interest.\n",
    "\n",
    "    Returns:\n",
    "    pd.DataFrame: DataFrame containing state abbreviations and their corresponding predictions.\n",
    "    \"\"\"\n",
    "    # Given our parameters, we can now generate a prediction for each state\n",
    "    all_inputs = [torch.tensor(np.concatenate([\n",
    "                    np.array([unemployment_rate]).reshape(-1, 1),\n",
    "                    state_encoder.transform([[state]]).reshape(-1, 1),\n",
    "                    industry_encoder.transform([[industry_code]]).reshape(-1, 1)\n",
    "                ], axis=0), dtype=torch.float32).T for state in state_encoder.categories_[0]]\n",
    "\n",
    "    # Generate predictions using the model\n",
    "    predictions = np.array([model.predict(input) for input in all_inputs]).squeeze()\n",
    "\n",
    "    # Create a dataframe with the predictions and state abbreviations\n",
    "    df_predictions = pd.DataFrame({\n",
    "        'State': [state_dict[state] for state in state_encoder.categories_[0]],\n",
    "        'Prediction': predictions\n",
    "    })\n",
    "\n",
    "    return df_predictions"
   ]
  },
  {
   "cell_type": "markdown",
   "metadata": {},
   "source": [
    "#### Example Use: Choosing a given unemployment and industry, we get prediction values for each state:"
   ]
  },
  {
   "cell_type": "code",
   "execution_count": 45,
   "metadata": {},
   "outputs": [
    {
     "name": "stdout",
     "output_type": "stream",
     "text": [
      "Predictions for industry: Mining, Quarrying, and Oil and Gas Extraction and Unemployment Rate: 8.44%\n",
      "  State  Prediction\n",
      "0    AL   89.719345\n",
      "1    AK   89.753082\n",
      "2    AZ   87.285820\n",
      "3    AR   88.651451\n",
      "4    CA   86.420784\n",
      "5    CO   87.714851\n",
      "6    CT   90.035545\n",
      "7    DE   84.606300\n",
      "8    DC   86.638634\n",
      "9    FL   87.624466\n"
     ]
    }
   ],
   "source": [
    "industry_code = random.choice(naics_codes)\n",
    "unemployment_rate = round(random.uniform(3.0, 10.0), 2)\n",
    "print(f\"Predictions for industry: {industry_dict_abbrev[industry_code]} and Unemployment Rate: {unemployment_rate}%\")\n",
    "df_predictions = generate_state_predictions(model, unemployment_rate, int(industry_code))\n",
    "print(df_predictions.head(10))"
   ]
  }
 ],
 "metadata": {
  "kernelspec": {
   "display_name": "PIC16B-25W",
   "language": "python",
   "name": "python3"
  },
  "language_info": {
   "codemirror_mode": {
    "name": "ipython",
    "version": 3
   },
   "file_extension": ".py",
   "mimetype": "text/x-python",
   "name": "python",
   "nbconvert_exporter": "python",
   "pygments_lexer": "ipython3",
   "version": "3.11.6"
  }
 },
 "nbformat": 4,
 "nbformat_minor": 2
}
