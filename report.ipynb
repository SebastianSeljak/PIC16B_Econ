{
 "cells": [
  {
   "cell_type": "markdown",
   "id": "7e94b0f9-0acb-4c73-951a-1c709c23681a",
   "metadata": {},
   "source": [
    "# PIC16B Small Business Predictor"
   ]
  },
  {
   "cell_type": "markdown",
   "id": "d6f3734c-7945-41f9-9675-2b0a307d4540",
   "metadata": {},
   "source": [
    "Welcome to our project, where we we will walk through our process of creating a machine learning model, which can generate predictions regarding the survival rate of a small business depending on its location and industry, under specific economic conditions like the unemployment rate. \n",
    "\n",
    "Our model required a robust data collection infrastructure, followed by hyperspecific tuning parameters for the machine learning process, and then was packaged into a Flask application for a level of user interactivity.\n",
    "\n",
    "We created this project to assist in the business development process for entrepreneurs -- an industrious person may want to start their passion project in transportation, but maybe right now is not the best time for maximum survival, perhaps when unemployment is a bit lower. Or maybe the location isn't the best, and other regions would be better fit for their startup. \n",
    "\n",
    "This tool would also be beneficial to those in analyst roles, who can evaluate the viable of\n",
    "\n",
    "The repository of all our files can be found here: [(https://github.com/SebastianSeljak/PIC16B_Econ)]"
   ]
  }
 ],
 "metadata": {
  "kernelspec": {
   "display_name": "Python 3 (ipykernel)",
   "language": "python",
   "name": "python3"
  },
  "language_info": {
   "codemirror_mode": {
    "name": "ipython",
    "version": 3
   },
   "file_extension": ".py",
   "mimetype": "text/x-python",
   "name": "python",
   "nbconvert_exporter": "python",
   "pygments_lexer": "ipython3",
   "version": "3.12.3"
  }
 },
 "nbformat": 4,
 "nbformat_minor": 5
}
