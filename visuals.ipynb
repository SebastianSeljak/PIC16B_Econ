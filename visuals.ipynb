{
 "cells": [
  {
   "cell_type": "code",
   "execution_count": null,
   "id": "5e15b02e-24df-43e7-9637-d196dde027f5",
   "metadata": {},
   "outputs": [],
   "source": [
    "import sqlite3\n",
    "import pandas as pd\n",
    "import plotly.express as px\n",
    "\n",
    "conn = sqlite3.connect(\"states.db\")\n",
    "\n",
    "\n",
    "unemployment_df = pd.read_sql_query('SELECT * FROM \"unemployment_rate\"', conn)\n",
    "establishments_df = pd.read_sql_query('SELECT * FROM \"establishments\"', conn)\n",
    "survival_df = pd.read_sql_query('SELECT * FROM \"survival_rates\"', conn)\n",
    "\n",
    "states_grouped = pd.read_sql_query('SELECT * FROM \"states_grouped\"', conn)\n",
    "\n",
    "conn.close()\n",
    "\n"
   ]
  },
  {
   "cell_type": "code",
   "execution_count": null,
   "id": "7afdcbbe-1c74-40ba-b7b6-3cc88c711ac8",
   "metadata": {
    "scrolled": true
   },
   "outputs": [],
   "source": [
    "latest_year_unemp = unemployment_df[\"Year\"].iloc[-1]\n",
    "fig_unemp = px.choropleth(\n",
    "    unemployment_df,\n",
    "    locations=\"State\",\n",
    "    locationmode=\"USA-states\",\n",
    "    color=\"Unemployment Rate\",\n",
    "    color_continuous_scale=\"Viridis\",\n",
    "    scope=\"usa\",\n",
    "    title=f\"Unemployment Rate by State ({latest_year_unemp})\"\n",
    ")\n",
    "\n",
    "establishments_df[\"Year\"] = pd.to_numeric(establishments_df[\"Year\"], errors=\"coerce\")\n",
    "establishments_df[\"Establishments\"] = pd.to_numeric(establishments_df[\"Establishments\"], errors=\"coerce\")\n",
    "latest_year_est = establishments_df[\"Year\"].max()\n",
    "establishments_df = establishments_df[establishments_df[\"Year\"] == latest_year_est]\n",
    "\n",
    "\n",
    "establishments_state = establishments_df.groupby(\"State\")[\"Establishments\"].sum().reset_index()\n",
    "\n",
    "fig_est = px.choropleth(\n",
    "    establishments_state,\n",
    "    locations=\"State\",\n",
    "    locationmode=\"USA-states\",\n",
    "    color=\"Establishments\",\n",
    "    color_continuous_scale=\"Plasma\",\n",
    "    scope=\"usa\",\n",
    "    title=f\"Total Establishments per State ({latest_year_est})\"\n",
    ")\n",
    "\n",
    "survival_df[\"Year\"] = pd.to_numeric(survival_df[\"Year\"], errors=\"coerce\")\n",
    "survival_df[\"Survival Rates Since Birth\"] = pd.to_numeric(survival_df[\"Survival Rates Since Birth\"], errors=\"coerce\")\n",
    "latest_year_surv = survival_df[\"Year\"].max()\n",
    "survival_df = survival_df[survival_df[\"Year\"] == latest_year_surv]\n",
    "\n",
    "\n",
    "survival_state = survival_df.groupby(\"State\")[\"Survival Rates Since Birth\"].mean().reset_index()\n",
    "survival_state_2 = states_grouped.mean(axis=0).reset_index()\n",
    "survival_state_2.rename(columns={\"index\": \"State\", 0: \"Survival Rate\"}, inplace=True)\n",
    "\n",
    "fig_surv = px.choropleth(\n",
    "    survival_state_2,\n",
    "    locations='State',\n",
    "    locationmode=\"USA-states\",\n",
    "    color=\"Survival Rate\",\n",
    "    color_continuous_scale=\"Magma\",\n",
    "    scope=\"usa\",\n",
    "    title=f\"Average Survival Rates by State ({latest_year_surv})\"\n",
    ")\n"
   ]
  },
  {
   "cell_type": "code",
   "execution_count": 38,
   "id": "641476b8-e926-42ce-a507-adafc9eb2f39",
   "metadata": {},
   "outputs": [
    {
     "data": {
      "application/vnd.plotly.v1+json": {
       "config": {
        "plotlyServerURL": "https://plot.ly"
       },
       "data": [
        {
         "coloraxis": "coloraxis",
         "geo": "geo",
         "hovertemplate": "State=%{location}<br>Unemployment Rate=%{z}<extra></extra>",
         "locationmode": "USA-states",
         "locations": [
          "AL",
          "AL",
          "AL",
          "AL",
          "AL",
          "AL",
          "AL",
          "AL",
          "AL",
          "AL",
          "AL",
          "AL",
          "AL",
          "AL",
          "AL",
          "AL",
          "AL",
          "AL",
          "AL",
          "AL",
          "AL",
          "AL",
          "AL",
          "AL",
          "AL",
          "AL",
          "AL",
          "AL",
          "AL",
          "AL",
          "AL",
          "AK",
          "AK",
          "AK",
          "AK",
          "AK",
          "AK",
          "AK",
          "AK",
          "AK",
          "AK",
          "AK",
          "AK",
          "AK",
          "AK",
          "AK",
          "AK",
          "AK",
          "AK",
          "AK",
          "AK",
          "AK",
          "AK",
          "AK",
          "AK",
          "AK",
          "AK",
          "AK",
          "AK",
          "AK",
          "AK",
          "AK",
          "AZ",
          "AZ",
          "AZ",
          "AZ",
          "AZ",
          "AZ",
          "AZ",
          "AZ",
          "AZ",
          "AZ",
          "AZ",
          "AZ",
          "AZ",
          "AZ",
          "AZ",
          "AZ",
          "AZ",
          "AZ",
          "AZ",
          "AZ",
          "AZ",
          "AZ",
          "AZ",
          "AZ",
          "AZ",
          "AZ",
          "AZ",
          "AZ",
          "AZ",
          "AZ",
          "AZ",
          "AR",
          "AR",
          "AR",
          "AR",
          "AR",
          "AR",
          "AR",
          "AR",
          "AR",
          "AR",
          "AR",
          "AR",
          "AR",
          "AR",
          "AR",
          "AR",
          "AR",
          "AR",
          "AR",
          "AR",
          "AR",
          "AR",
          "AR",
          "AR",
          "AR",
          "AR",
          "AR",
          "AR",
          "AR",
          "AR",
          "AR",
          "CA",
          "CA",
          "CA",
          "CA",
          "CA",
          "CA",
          "CA",
          "CA",
          "CA",
          "CA",
          "CA",
          "CA",
          "CA",
          "CA",
          "CA",
          "CA",
          "CA",
          "CA",
          "CA",
          "CA",
          "CA",
          "CA",
          "CA",
          "CA",
          "CA",
          "CA",
          "CA",
          "CA",
          "CA",
          "CA",
          "CA",
          "CO",
          "CO",
          "CO",
          "CO",
          "CO",
          "CO",
          "CO",
          "CO",
          "CO",
          "CO",
          "CO",
          "CO",
          "CO",
          "CO",
          "CO",
          "CO",
          "CO",
          "CO",
          "CO",
          "CO",
          "CO",
          "CO",
          "CO",
          "CO",
          "CO",
          "CO",
          "CO",
          "CO",
          "CO",
          "CO",
          "CO",
          "CT",
          "CT",
          "CT",
          "CT",
          "CT",
          "CT",
          "CT",
          "CT",
          "CT",
          "CT",
          "CT",
          "CT",
          "CT",
          "CT",
          "CT",
          "CT",
          "CT",
          "CT",
          "CT",
          "CT",
          "CT",
          "CT",
          "CT",
          "CT",
          "CT",
          "CT",
          "CT",
          "CT",
          "CT",
          "CT",
          "CT",
          "DE",
          "DE",
          "DE",
          "DE",
          "DE",
          "DE",
          "DE",
          "DE",
          "DE",
          "DE",
          "DE",
          "DE",
          "DE",
          "DE",
          "DE",
          "DE",
          "DE",
          "DE",
          "DE",
          "DE",
          "DE",
          "DE",
          "DE",
          "DE",
          "DE",
          "DE",
          "DE",
          "DE",
          "DE",
          "DE",
          "DE",
          "DC",
          "DC",
          "DC",
          "DC",
          "DC",
          "DC",
          "DC",
          "DC",
          "DC",
          "DC",
          "DC",
          "DC",
          "DC",
          "DC",
          "DC",
          "DC",
          "DC",
          "DC",
          "DC",
          "DC",
          "DC",
          "DC",
          "DC",
          "DC",
          "DC",
          "DC",
          "DC",
          "DC",
          "DC",
          "DC",
          "DC",
          "FL",
          "FL",
          "FL",
          "FL",
          "FL",
          "FL",
          "FL",
          "FL",
          "FL",
          "FL",
          "FL",
          "FL",
          "FL",
          "FL",
          "FL",
          "FL",
          "FL",
          "FL",
          "FL",
          "FL",
          "FL",
          "FL",
          "FL",
          "FL",
          "FL",
          "FL",
          "FL",
          "FL",
          "FL",
          "FL",
          "FL",
          "GA",
          "GA",
          "GA",
          "GA",
          "GA",
          "GA",
          "GA",
          "GA",
          "GA",
          "GA",
          "GA",
          "GA",
          "GA",
          "GA",
          "GA",
          "GA",
          "GA",
          "GA",
          "GA",
          "GA",
          "GA",
          "GA",
          "GA",
          "GA",
          "GA",
          "GA",
          "GA",
          "GA",
          "GA",
          "GA",
          "GA",
          "HI",
          "HI",
          "HI",
          "HI",
          "HI",
          "HI",
          "HI",
          "HI",
          "HI",
          "HI",
          "HI",
          "HI",
          "HI",
          "HI",
          "HI",
          "HI",
          "HI",
          "HI",
          "HI",
          "HI",
          "HI",
          "HI",
          "HI",
          "HI",
          "HI",
          "HI",
          "HI",
          "HI",
          "HI",
          "HI",
          "HI",
          "ID",
          "ID",
          "ID",
          "ID",
          "ID",
          "ID",
          "ID",
          "ID",
          "ID",
          "ID",
          "ID",
          "ID",
          "ID",
          "ID",
          "ID",
          "ID",
          "ID",
          "ID",
          "ID",
          "ID",
          "ID",
          "ID",
          "ID",
          "ID",
          "ID",
          "ID",
          "ID",
          "ID",
          "ID",
          "ID",
          "ID",
          "IL",
          "IL",
          "IL",
          "IL",
          "IL",
          "IL",
          "IL",
          "IL",
          "IL",
          "IL",
          "IL",
          "IL",
          "IL",
          "IL",
          "IL",
          "IL",
          "IL",
          "IL",
          "IL",
          "IL",
          "IL",
          "IL",
          "IL",
          "IL",
          "IL",
          "IL",
          "IL",
          "IL",
          "IL",
          "IL",
          "IL",
          "IN",
          "IN",
          "IN",
          "IN",
          "IN",
          "IN",
          "IN",
          "IN",
          "IN",
          "IN",
          "IN",
          "IN",
          "IN",
          "IN",
          "IN",
          "IN",
          "IN",
          "IN",
          "IN",
          "IN",
          "IN",
          "IN",
          "IN",
          "IN",
          "IN",
          "IN",
          "IN",
          "IN",
          "IN",
          "IN",
          "IN",
          "IA",
          "IA",
          "IA",
          "IA",
          "IA",
          "IA",
          "IA",
          "IA",
          "IA",
          "IA",
          "IA",
          "IA",
          "IA",
          "IA",
          "IA",
          "IA",
          "IA",
          "IA",
          "IA",
          "IA",
          "IA",
          "IA",
          "IA",
          "IA",
          "IA",
          "IA",
          "IA",
          "IA",
          "IA",
          "IA",
          "IA",
          "KS",
          "KS",
          "KS",
          "KS",
          "KS",
          "KS",
          "KS",
          "KS",
          "KS",
          "KS",
          "KS",
          "KS",
          "KS",
          "KS",
          "KS",
          "KS",
          "KS",
          "KS",
          "KS",
          "KS",
          "KS",
          "KS",
          "KS",
          "KS",
          "KS",
          "KS",
          "KS",
          "KS",
          "KS",
          "KS",
          "KS",
          "KY",
          "KY",
          "KY",
          "KY",
          "KY",
          "KY",
          "KY",
          "KY",
          "KY",
          "KY",
          "KY",
          "KY",
          "KY",
          "KY",
          "KY",
          "KY",
          "KY",
          "KY",
          "KY",
          "KY",
          "KY",
          "KY",
          "KY",
          "KY",
          "KY",
          "KY",
          "KY",
          "KY",
          "KY",
          "KY",
          "KY",
          "LA",
          "LA",
          "LA",
          "LA",
          "LA",
          "LA",
          "LA",
          "LA",
          "LA",
          "LA",
          "LA",
          "LA",
          "LA",
          "LA",
          "LA",
          "LA",
          "LA",
          "LA",
          "LA",
          "LA",
          "LA",
          "LA",
          "LA",
          "LA",
          "LA",
          "LA",
          "LA",
          "LA",
          "LA",
          "LA",
          "LA",
          "ME",
          "ME",
          "ME",
          "ME",
          "ME",
          "ME",
          "ME",
          "ME",
          "ME",
          "ME",
          "ME",
          "ME",
          "ME",
          "ME",
          "ME",
          "ME",
          "ME",
          "ME",
          "ME",
          "ME",
          "ME",
          "ME",
          "ME",
          "ME",
          "ME",
          "ME",
          "ME",
          "ME",
          "ME",
          "ME",
          "ME",
          "MD",
          "MD",
          "MD",
          "MD",
          "MD",
          "MD",
          "MD",
          "MD",
          "MD",
          "MD",
          "MD",
          "MD",
          "MD",
          "MD",
          "MD",
          "MD",
          "MD",
          "MD",
          "MD",
          "MD",
          "MD",
          "MD",
          "MD",
          "MD",
          "MD",
          "MD",
          "MD",
          "MD",
          "MD",
          "MD",
          "MD",
          "MA",
          "MA",
          "MA",
          "MA",
          "MA",
          "MA",
          "MA",
          "MA",
          "MA",
          "MA",
          "MA",
          "MA",
          "MA",
          "MA",
          "MA",
          "MA",
          "MA",
          "MA",
          "MA",
          "MA",
          "MA",
          "MA",
          "MA",
          "MA",
          "MA",
          "MA",
          "MA",
          "MA",
          "MA",
          "MA",
          "MA",
          "MI",
          "MI",
          "MI",
          "MI",
          "MI",
          "MI",
          "MI",
          "MI",
          "MI",
          "MI",
          "MI",
          "MI",
          "MI",
          "MI",
          "MI",
          "MI",
          "MI",
          "MI",
          "MI",
          "MI",
          "MI",
          "MI",
          "MI",
          "MI",
          "MI",
          "MI",
          "MI",
          "MI",
          "MI",
          "MI",
          "MI",
          "MN",
          "MN",
          "MN",
          "MN",
          "MN",
          "MN",
          "MN",
          "MN",
          "MN",
          "MN",
          "MN",
          "MN",
          "MN",
          "MN",
          "MN",
          "MN",
          "MN",
          "MN",
          "MN",
          "MN",
          "MN",
          "MN",
          "MN",
          "MN",
          "MN",
          "MN",
          "MN",
          "MN",
          "MN",
          "MN",
          "MN",
          "MS",
          "MS",
          "MS",
          "MS",
          "MS",
          "MS",
          "MS",
          "MS",
          "MS",
          "MS",
          "MS",
          "MS",
          "MS",
          "MS",
          "MS",
          "MS",
          "MS",
          "MS",
          "MS",
          "MS",
          "MS",
          "MS",
          "MS",
          "MS",
          "MS",
          "MS",
          "MS",
          "MS",
          "MS",
          "MS",
          "MS",
          "MO",
          "MO",
          "MO",
          "MO",
          "MO",
          "MO",
          "MO",
          "MO",
          "MO",
          "MO",
          "MO",
          "MO",
          "MO",
          "MO",
          "MO",
          "MO",
          "MO",
          "MO",
          "MO",
          "MO",
          "MO",
          "MO",
          "MO",
          "MO",
          "MO",
          "MO",
          "MO",
          "MO",
          "MO",
          "MO",
          "MO",
          "MT",
          "MT",
          "MT",
          "MT",
          "MT",
          "MT",
          "MT",
          "MT",
          "MT",
          "MT",
          "MT",
          "MT",
          "MT",
          "MT",
          "MT",
          "MT",
          "MT",
          "MT",
          "MT",
          "MT",
          "MT",
          "MT",
          "MT",
          "MT",
          "MT",
          "MT",
          "MT",
          "MT",
          "MT",
          "MT",
          "MT",
          "NE",
          "NE",
          "NE",
          "NE",
          "NE",
          "NE",
          "NE",
          "NE",
          "NE",
          "NE",
          "NE",
          "NE",
          "NE",
          "NE",
          "NE",
          "NE",
          "NE",
          "NE",
          "NE",
          "NE",
          "NE",
          "NE",
          "NE",
          "NE",
          "NE",
          "NE",
          "NE",
          "NE",
          "NE",
          "NE",
          "NE",
          "NV",
          "NV",
          "NV",
          "NV",
          "NV",
          "NV",
          "NV",
          "NV",
          "NV",
          "NV",
          "NV",
          "NV",
          "NV",
          "NV",
          "NV",
          "NV",
          "NV",
          "NV",
          "NV",
          "NV",
          "NV",
          "NV",
          "NV",
          "NV",
          "NV",
          "NV",
          "NV",
          "NV",
          "NV",
          "NV",
          "NV",
          "NH",
          "NH",
          "NH",
          "NH",
          "NH",
          "NH",
          "NH",
          "NH",
          "NH",
          "NH",
          "NH",
          "NH",
          "NH",
          "NH",
          "NH",
          "NH",
          "NH",
          "NH",
          "NH",
          "NH",
          "NH",
          "NH",
          "NH",
          "NH",
          "NH",
          "NH",
          "NH",
          "NH",
          "NH",
          "NH",
          "NH",
          "NJ",
          "NJ",
          "NJ",
          "NJ",
          "NJ",
          "NJ",
          "NJ",
          "NJ",
          "NJ",
          "NJ",
          "NJ",
          "NJ",
          "NJ",
          "NJ",
          "NJ",
          "NJ",
          "NJ",
          "NJ",
          "NJ",
          "NJ",
          "NJ",
          "NJ",
          "NJ",
          "NJ",
          "NJ",
          "NJ",
          "NJ",
          "NJ",
          "NJ",
          "NJ",
          "NJ",
          "NM",
          "NM",
          "NM",
          "NM",
          "NM",
          "NM",
          "NM",
          "NM",
          "NM",
          "NM",
          "NM",
          "NM",
          "NM",
          "NM",
          "NM",
          "NM",
          "NM",
          "NM",
          "NM",
          "NM",
          "NM",
          "NM",
          "NM",
          "NM",
          "NM",
          "NM",
          "NM",
          "NM",
          "NM",
          "NM",
          "NM",
          "NY",
          "NY",
          "NY",
          "NY",
          "NY",
          "NY",
          "NY",
          "NY",
          "NY",
          "NY",
          "NY",
          "NY",
          "NY",
          "NY",
          "NY",
          "NY",
          "NY",
          "NY",
          "NY",
          "NY",
          "NY",
          "NY",
          "NY",
          "NY",
          "NY",
          "NY",
          "NY",
          "NY",
          "NY",
          "NY",
          "NY",
          "NC",
          "NC",
          "NC",
          "NC",
          "NC",
          "NC",
          "NC",
          "NC",
          "NC",
          "NC",
          "NC",
          "NC",
          "NC",
          "NC",
          "NC",
          "NC",
          "NC",
          "NC",
          "NC",
          "NC",
          "NC",
          "NC",
          "NC",
          "NC",
          "NC",
          "NC",
          "NC",
          "NC",
          "NC",
          "NC",
          "NC",
          "ND",
          "ND",
          "ND",
          "ND",
          "ND",
          "ND",
          "ND",
          "ND",
          "ND",
          "ND",
          "ND",
          "ND",
          "ND",
          "ND",
          "ND",
          "ND",
          "ND",
          "ND",
          "ND",
          "ND",
          "ND",
          "ND",
          "ND",
          "ND",
          "ND",
          "ND",
          "ND",
          "ND",
          "ND",
          "ND",
          "ND",
          "OH",
          "OH",
          "OH",
          "OH",
          "OH",
          "OH",
          "OH",
          "OH",
          "OH",
          "OH",
          "OH",
          "OH",
          "OH",
          "OH",
          "OH",
          "OH",
          "OH",
          "OH",
          "OH",
          "OH",
          "OH",
          "OH",
          "OH",
          "OH",
          "OH",
          "OH",
          "OH",
          "OH",
          "OH",
          "OH",
          "OH",
          "OK",
          "OK",
          "OK",
          "OK",
          "OK",
          "OK",
          "OK",
          "OK",
          "OK",
          "OK",
          "OK",
          "OK",
          "OK",
          "OK",
          "OK",
          "OK",
          "OK",
          "OK",
          "OK",
          "OK",
          "OK",
          "OK",
          "OK",
          "OK",
          "OK",
          "OK",
          "OK",
          "OK",
          "OK",
          "OK",
          "OK",
          "OR",
          "OR",
          "OR",
          "OR",
          "OR",
          "OR",
          "OR",
          "OR",
          "OR",
          "OR",
          "OR",
          "OR",
          "OR",
          "OR",
          "OR",
          "OR",
          "OR",
          "OR",
          "OR",
          "OR",
          "OR",
          "OR",
          "OR",
          "OR",
          "OR",
          "OR",
          "OR",
          "OR",
          "OR",
          "OR",
          "OR",
          "PA",
          "PA",
          "PA",
          "PA",
          "PA",
          "PA",
          "PA",
          "PA",
          "PA",
          "PA",
          "PA",
          "PA",
          "PA",
          "PA",
          "PA",
          "PA",
          "PA",
          "PA",
          "PA",
          "PA",
          "PA",
          "PA",
          "PA",
          "PA",
          "PA",
          "PA",
          "PA",
          "PA",
          "PA",
          "PA",
          "PA",
          "RI",
          "RI",
          "RI",
          "RI",
          "RI",
          "RI",
          "RI",
          "RI",
          "RI",
          "RI",
          "RI",
          "RI",
          "RI",
          "RI",
          "RI",
          "RI",
          "RI",
          "RI",
          "RI",
          "RI",
          "RI",
          "RI",
          "RI",
          "RI",
          "RI",
          "RI",
          "RI",
          "RI",
          "RI",
          "RI",
          "RI",
          "SC",
          "SC",
          "SC",
          "SC",
          "SC",
          "SC",
          "SC",
          "SC",
          "SC",
          "SC",
          "SC",
          "SC",
          "SC",
          "SC",
          "SC",
          "SC",
          "SC",
          "SC",
          "SC",
          "SC",
          "SC",
          "SC",
          "SC",
          "SC",
          "SC",
          "SC",
          "SC",
          "SC",
          "SC",
          "SC",
          "SC",
          "SD",
          "SD",
          "SD",
          "SD",
          "SD",
          "SD",
          "SD",
          "SD",
          "SD",
          "SD",
          "SD",
          "SD",
          "SD",
          "SD",
          "SD",
          "SD",
          "SD",
          "SD",
          "SD",
          "SD",
          "SD",
          "SD",
          "SD",
          "SD",
          "SD",
          "SD",
          "SD",
          "SD",
          "SD",
          "SD",
          "SD",
          "TN",
          "TN",
          "TN",
          "TN",
          "TN",
          "TN",
          "TN",
          "TN",
          "TN",
          "TN",
          "TN",
          "TN",
          "TN",
          "TN",
          "TN",
          "TN",
          "TN",
          "TN",
          "TN",
          "TN",
          "TN",
          "TN",
          "TN",
          "TN",
          "TN",
          "TN",
          "TN",
          "TN",
          "TN",
          "TN",
          "TN",
          "TX",
          "TX",
          "TX",
          "TX",
          "TX",
          "TX",
          "TX",
          "TX",
          "TX",
          "TX",
          "TX",
          "TX",
          "TX",
          "TX",
          "TX",
          "TX",
          "TX",
          "TX",
          "TX",
          "TX",
          "TX",
          "TX",
          "TX",
          "TX",
          "TX",
          "TX",
          "TX",
          "TX",
          "TX",
          "TX",
          "TX",
          "UT",
          "UT",
          "UT",
          "UT",
          "UT",
          "UT",
          "UT",
          "UT",
          "UT",
          "UT",
          "UT",
          "UT",
          "UT",
          "UT",
          "UT",
          "UT",
          "UT",
          "UT",
          "UT",
          "UT",
          "UT",
          "UT",
          "UT",
          "UT",
          "UT",
          "UT",
          "UT",
          "UT",
          "UT",
          "UT",
          "UT",
          "VT",
          "VT",
          "VT",
          "VT",
          "VT",
          "VT",
          "VT",
          "VT",
          "VT",
          "VT",
          "VT",
          "VT",
          "VT",
          "VT",
          "VT",
          "VT",
          "VT",
          "VT",
          "VT",
          "VT",
          "VT",
          "VT",
          "VT",
          "VT",
          "VT",
          "VT",
          "VT",
          "VT",
          "VT",
          "VT",
          "VT",
          "VA",
          "VA",
          "VA",
          "VA",
          "VA",
          "VA",
          "VA",
          "VA",
          "VA",
          "VA",
          "VA",
          "VA",
          "VA",
          "VA",
          "VA",
          "VA",
          "VA",
          "VA",
          "VA",
          "VA",
          "VA",
          "VA",
          "VA",
          "VA",
          "VA",
          "VA",
          "VA",
          "VA",
          "VA",
          "VA",
          "VA",
          "WA",
          "WA",
          "WA",
          "WA",
          "WA",
          "WA",
          "WA",
          "WA",
          "WA",
          "WA",
          "WA",
          "WA",
          "WA",
          "WA",
          "WA",
          "WA",
          "WA",
          "WA",
          "WA",
          "WA",
          "WA",
          "WA",
          "WA",
          "WA",
          "WA",
          "WA",
          "WA",
          "WA",
          "WA",
          "WA",
          "WA",
          "WV",
          "WV",
          "WV",
          "WV",
          "WV",
          "WV",
          "WV",
          "WV",
          "WV",
          "WV",
          "WV",
          "WV",
          "WV",
          "WV",
          "WV",
          "WV",
          "WV",
          "WV",
          "WV",
          "WV",
          "WV",
          "WV",
          "WV",
          "WV",
          "WV",
          "WV",
          "WV",
          "WV",
          "WV",
          "WV",
          "WV",
          "WI",
          "WI",
          "WI",
          "WI",
          "WI",
          "WI",
          "WI",
          "WI",
          "WI",
          "WI",
          "WI",
          "WI",
          "WI",
          "WI",
          "WI",
          "WI",
          "WI",
          "WI",
          "WI",
          "WI",
          "WI",
          "WI",
          "WI",
          "WI",
          "WI",
          "WI",
          "WI",
          "WI",
          "WI",
          "WI",
          "WI",
          "WY",
          "WY",
          "WY",
          "WY",
          "WY",
          "WY",
          "WY",
          "WY",
          "WY",
          "WY",
          "WY",
          "WY",
          "WY",
          "WY",
          "WY",
          "WY",
          "WY",
          "WY",
          "WY",
          "WY",
          "WY",
          "WY",
          "WY",
          "WY",
          "WY",
          "WY",
          "WY",
          "WY",
          "WY",
          "WY",
          "WY"
         ],
         "name": "",
         "type": "choropleth",
         "z": [
          6.175,
          5.833333333333333,
          5.208333333333333,
          4.933333333333333,
          4.458333333333333,
          4.7250000000000005,
          4.625,
          5.183333333333334,
          5.925000000000001,
          5.983333333333333,
          5.575,
          4.458333333333333,
          4,
          4.041666666666667,
          5.883333333333333,
          10.083333333333334,
          10.375,
          9.583333333333334,
          8.158333333333333,
          7.325,
          6.733333333333333,
          6.125,
          5.908333333333334,
          4.508333333333334,
          3.9416666666666664,
          3.1833333333333336,
          6.408333333333334,
          3.375,
          2.5166666666666666,
          2.4916666666666667,
          2.975,
          7.616666666666667,
          7.325,
          7.425,
          6.933333333333334,
          6.325,
          6.408333333333334,
          6.316666666666666,
          6.283333333333334,
          7.166666666666667,
          7.683333333333334,
          7.416666666666667,
          6.933333333333334,
          6.633333333333333,
          6.258333333333333,
          6.4750000000000005,
          7.983333333333333,
          8.133333333333333,
          7.733333333333333,
          7.25,
          6.991666666666667,
          6.741666666666667,
          6.2749999999999995,
          6.6000000000000005,
          6.508333333333333,
          6.041666666666667,
          5.608333333333333,
          8.35,
          6.383333333333333,
          4.233333333333333,
          4.216666666666667,
          4.575,
          6.191666666666666,
          5.3,
          5.491666666666667,
          4.625,
          4.2749999999999995,
          4.458333333333333,
          3.983333333333333,
          4.7250000000000005,
          6.141666666666667,
          5.783333333333334,
          4.966666666666667,
          4.666666666666667,
          4.308333333333334,
          3.75,
          5.791666666666667,
          9.666666666666666,
          10.299999999999999,
          9.433333333333334,
          8.35,
          7.816666666666666,
          6.791666666666667,
          6.075,
          5.483333333333333,
          4.9750000000000005,
          4.808333333333334,
          4.808333333333334,
          7.825,
          5.066666666666666,
          3.775,
          3.908333333333333,
          3.65,
          5.441666666666666,
          4.866666666666666,
          5.166666666666667,
          5.108333333333333,
          5.05,
          4.533333333333333,
          4.175,
          4.758333333333334,
          5.333333333333333,
          5.758333333333333,
          5.583333333333333,
          5.258333333333334,
          5.25,
          5.391666666666667,
          5.441666666666666,
          7.7250000000000005,
          7.858333333333333,
          7.908333333333334,
          7.266666666666667,
          7.041666666666667,
          5.8999999999999995,
          4.95,
          3.983333333333333,
          3.7416666666666667,
          3.658333333333333,
          3.4916666666666667,
          6.183333333333334,
          4.041666666666667,
          3.2083333333333335,
          3.225,
          3.4,
          8.65,
          7.891666666666667,
          7.3500000000000005,
          6.408333333333334,
          5.933333333333334,
          5.266666666666667,
          4.925,
          5.466666666666666,
          6.758333333333333,
          6.891666666666667,
          6.216666666666666,
          5.383333333333333,
          4.916666666666667,
          5.308333333333334,
          7.3,
          11.541666666666666,
          12.458333333333334,
          11.891666666666666,
          10.525,
          9.033333333333333,
          7.566666666666666,
          6.2250000000000005,
          5.516666666666667,
          4.833333333333333,
          4.258333333333334,
          4.1000000000000005,
          10.191666666666666,
          7.325,
          4.2749999999999995,
          4.741666666666666,
          5.3,
          4.141666666666667,
          4.0249999999999995,
          4.166666666666667,
          3.358333333333333,
          3.6166666666666667,
          3.016666666666667,
          2.7416666666666667,
          3.8166666666666664,
          5.683333333333334,
          6.108333333333333,
          5.566666666666666,
          5.075,
          4.2749999999999995,
          3.6999999999999997,
          4.875,
          7.875,
          9.141666666666667,
          8.691666666666666,
          8,
          6.75,
          4.983333333333333,
          3.7416666666666667,
          3.1333333333333333,
          2.6083333333333334,
          3.0500000000000003,
          2.6666666666666665,
          6.783333333333334,
          5.483333333333333,
          3.0666666666666664,
          3.15,
          3.8833333333333333,
          5.541666666666667,
          5.308333333333334,
          5.2,
          4.683333333333334,
          3.2416666666666667,
          2.4583333333333335,
          2.1083333333333334,
          2.875,
          4.3999999999999995,
          5.45,
          5.091666666666667,
          4.8,
          4.425,
          4.45,
          5.6499999999999995,
          8.325000000000001,
          9.558333333333334,
          9.016666666666667,
          8.358333333333334,
          7.95,
          6.616666666666667,
          5.616666666666667,
          4.866666666666666,
          4.416666666666667,
          3.8833333333333333,
          3.591666666666667,
          8,
          6.383333333333333,
          4.091666666666667,
          3.7083333333333335,
          3.766666666666667,
          4.7,
          4.266666666666667,
          4.95,
          4.008333333333334,
          3.4916666666666667,
          3.283333333333333,
          3.608333333333334,
          3.5749999999999997,
          4.266666666666667,
          4.466666666666667,
          4.3,
          4.508333333333334,
          3.908333333333333,
          3.608333333333333,
          5.033333333333333,
          8.341666666666667,
          8.658333333333333,
          7.608333333333333,
          7.066666666666666,
          6.608333333333333,
          5.608333333333333,
          4.791666666666667,
          4.5249999999999995,
          4.466666666666667,
          3.7083333333333335,
          3.5500000000000003,
          7.4750000000000005,
          5.4750000000000005,
          4.233333333333333,
          3.983333333333333,
          3.9916666666666667,
          7.933333333333334,
          8.608333333333333,
          8.424999999999999,
          8.141666666666667,
          8.316666666666666,
          6.575,
          5.691666666666666,
          6.466666666666666,
          6.983333333333333,
          7.2749999999999995,
          8.083333333333334,
          6.991666666666667,
          6.325,
          5.95,
          6.8500000000000005,
          10,
          9.950000000000001,
          10.191666666666666,
          8.975,
          8.433333333333334,
          7.708333333333333,
          6.916666666666667,
          6.233333333333333,
          6.1000000000000005,
          5.683333333333334,
          5.5,
          7.891666666666667,
          6.875,
          4.75,
          4.875,
          5.408333333333334,
          6.4750000000000005,
          5.6000000000000005,
          5.283333333333333,
          4.925,
          4.45,
          3.933333333333333,
          3.7583333333333333,
          4.425,
          4.958333333333333,
          4.466666666666667,
          3.75,
          2.875,
          2.466666666666667,
          3.3000000000000003,
          5.691666666666666,
          9.558333333333334,
          10.825000000000001,
          10,
          8.666666666666666,
          7.533333333333334,
          6.433333333333334,
          5.5249999999999995,
          4.916666666666667,
          4.3,
          3.65,
          3.25,
          8.191666666666666,
          4.691666666666666,
          2.9916666666666667,
          2.908333333333333,
          3.275,
          5.05,
          4.733333333333333,
          4.608333333333333,
          4.483333333333333,
          4.183333333333334,
          3.8166666666666664,
          3.533333333333333,
          4.091666666666667,
          5.308333333333334,
          5.141666666666667,
          5.083333333333333,
          5.683333333333334,
          5.075,
          4.908333333333333,
          6.783333333333334,
          10.408333333333333,
          10.658333333333333,
          10.158333333333333,
          9.041666666666666,
          8.141666666666667,
          7.141666666666667,
          6.075,
          5.466666666666668,
          4.758333333333334,
          4,
          3.5749999999999997,
          6.5,
          3.9333333333333336,
          3.141666666666667,
          3.2000000000000006,
          3.375,
          5.175,
          5.5249999999999995,
          5.916666666666667,
          5.925,
          5.825,
          5.191666666666666,
          4.25,
          4.2749999999999995,
          4.05,
          3.908333333333333,
          3.2916666666666665,
          2.8249999999999997,
          2.5500000000000003,
          2.725,
          4.033333333333333,
          6.658333333333334,
          6.825,
          6.833333333333333,
          5.8999999999999995,
          4.758333333333334,
          4.233333333333333,
          3.4166666666666665,
          2.891666666666667,
          2.216666666666667,
          2.408333333333333,
          2.5166666666666666,
          11.791666666666666,
          5.958333333333333,
          3.2583333333333333,
          2.9333333333333336,
          2.983333333333333,
          5.5,
          5.5,
          5.425,
          5.216666666666667,
          5.233333333333333,
          5.008333333333334,
          4.658333333333333,
          5.083333333333333,
          5.616666666666667,
          5.566666666666666,
          4.866666666666666,
          3.9916666666666667,
          3.4250000000000003,
          3.025,
          5.033333333333333,
          8.708333333333334,
          8.758333333333333,
          8.166666666666666,
          7.3999999999999995,
          6.816666666666666,
          4.383333333333334,
          3.8666666666666667,
          3.6750000000000003,
          3.216666666666667,
          2.875,
          2.8833333333333333,
          5.541666666666667,
          3.5500000000000003,
          2.841666666666667,
          3.0833333333333335,
          3.475,
          5.8,
          5.2,
          5.283333333333333,
          4.7749999999999995,
          4.45,
          4.408333333333333,
          4.441666666666667,
          5.433333333333334,
          6.55,
          6.7250000000000005,
          6.175,
          5.716666666666666,
          4.6000000000000005,
          5.066666666666666,
          6.508333333333333,
          10.183333333333334,
          10.466666666666667,
          9.758333333333333,
          9.049999999999999,
          9.075000000000001,
          7.166666666666667,
          5.991666666666667,
          5.883333333333333,
          4.95,
          4.3999999999999995,
          3.966666666666667,
          9.308333333333334,
          6.1000000000000005,
          4.566666666666666,
          4.458333333333333,
          5.05,
          4.658333333333333,
          4.433333333333334,
          3.966666666666667,
          3.4166666666666665,
          3.0083333333333333,
          2.9499999999999997,
          3.0500000000000003,
          4.241666666666666,
          5.191666666666666,
          5.275,
          5.3999999999999995,
          5.391666666666667,
          5,
          4.625,
          5.941666666666666,
          10.433333333333334,
          10.083333333333334,
          8.908333333333333,
          8.225,
          7.5,
          5.95,
          4.783333333333333,
          4.366666666666666,
          3.4916666666666667,
          3.4333333333333336,
          3.3083333333333336,
          7.3500000000000005,
          3.9166666666666665,
          3.0666666666666664,
          3.341666666666667,
          3.9499999999999997,
          3.6,
          3.5083333333333333,
          3.5833333333333335,
          3.141666666666667,
          2.841666666666667,
          2.6583333333333337,
          2.6833333333333336,
          3.3249999999999997,
          4,
          4.45,
          4.5249999999999995,
          4.291666666666667,
          3.6999999999999997,
          3.716666666666667,
          4.183333333333334,
          6.3999999999999995,
          6.116666666666667,
          5.6499999999999995,
          5.058333333333334,
          4.7250000000000005,
          4.2250000000000005,
          3.6916666666666664,
          3.5749999999999997,
          3.0583333333333336,
          2.5749999999999997,
          2.6583333333333337,
          5.2,
          3.85,
          2.8083333333333336,
          2.9583333333333335,
          2.9333333333333336,
          4.783333333333333,
          4.358333333333333,
          4.25,
          3.7916666666666665,
          3.6750000000000003,
          3.483333333333333,
          3.775,
          4.266666666666667,
          5.083333333333333,
          5.55,
          5.508333333333333,
          5.066666666666666,
          4.425,
          4.233333333333333,
          4.608333333333333,
          6.891666666666667,
          6.933333333333334,
          6.383333333333333,
          5.716666666666666,
          5.3,
          4.508333333333334,
          4.1499999999999995,
          4.016666666666667,
          3.6166666666666667,
          3.358333333333333,
          3.158333333333333,
          5.816666666666666,
          3.35,
          2.625,
          2.65,
          3.0833333333333335,
          5.3500000000000005,
          5.3999999999999995,
          5.383333333333333,
          5.2250000000000005,
          4.508333333333334,
          4.491666666666666,
          4.141666666666667,
          5.208333333333333,
          5.791666666666667,
          6.191666666666666,
          5.5,
          5.875,
          5.7250000000000005,
          5.366666666666667,
          6.5249999999999995,
          10.766666666666666,
          10.266666666666667,
          9.375,
          8.2,
          7.916666666666667,
          6.416666666666667,
          5.233333333333333,
          5.033333333333333,
          4.7749999999999995,
          4.2,
          4.091666666666666,
          6.466666666666666,
          4.466666666666666,
          4.0249999999999995,
          4.158333333333333,
          4.7250000000000005,
          7.6499999999999995,
          6.866666666666667,
          6.458333333333333,
          5.883333333333333,
          5.516666666666667,
          4.9750000000000005,
          5.15,
          5.6000000000000005,
          5.991666666666667,
          6.283333333333334,
          5.7,
          7.058333333333334,
          4.133333333333334,
          4.091666666666667,
          4.666666666666667,
          6.791666666666667,
          7.516666666666667,
          7.433333333333334,
          6.766666666666667,
          6.416666666666667,
          6.25,
          6.291666666666667,
          6.066666666666666,
          5.108333333333333,
          4.825,
          4.625,
          8.691666666666666,
          5.6000000000000005,
          3.6333333333333333,
          3.641666666666667,
          4.133333333333334,
          6.566666666666666,
          5.875,
          5.325,
          5.191666666666666,
          4.458333333333333,
          4.008333333333334,
          3.3333333333333335,
          3.75,
          4.458333333333333,
          5.1499999999999995,
          4.658333333333333,
          4.891666666666667,
          4.716666666666667,
          4.691666666666666,
          5.3999999999999995,
          8.391666666666667,
          8.416666666666666,
          7.7250000000000005,
          7.191666666666666,
          6.683333333333334,
          5.558333333333334,
          4.383333333333334,
          3.775,
          3.358333333333333,
          3.1750000000000003,
          2.908333333333333,
          5.116666666666667,
          4.666666666666667,
          2.85,
          2.8333333333333335,
          3.0500000000000003,
          5.2,
          4.983333333333333,
          4.933333333333333,
          4.808333333333334,
          4.241666666666666,
          3.4583333333333335,
          3.516666666666667,
          4.208333333333333,
          4.7749999999999995,
          4.8,
          4.616666666666666,
          4.4750000000000005,
          4.175,
          3.733333333333334,
          4.5249999999999995,
          7.55,
          7.825,
          7.316666666666666,
          6.866666666666667,
          6.516666666666667,
          5.733333333333333,
          4.991666666666666,
          4.291666666666667,
          4,
          3.8166666666666664,
          3.375,
          6.466666666666666,
          5.2250000000000005,
          2.983333333333333,
          2.1,
          2.7583333333333333,
          6.233333333333333,
          5.458333333333333,
          4.616666666666667,
          4.058333333333334,
          3.375,
          3.283333333333333,
          2.8166666666666664,
          3.783333333333333,
          5.216666666666667,
          5.733333333333333,
          5.108333333333333,
          4.8,
          4.7,
          4.516666666666667,
          5.333333333333333,
          8.075000000000001,
          8.058333333333334,
          7.2250000000000005,
          6.7,
          6.641666666666667,
          5.741666666666667,
          4.791666666666667,
          4.041666666666667,
          3.7916666666666665,
          3.475,
          3.025,
          9.375,
          5.3999999999999995,
          3.658333333333333,
          3.341666666666667,
          3.408333333333333,
          6.083333333333333,
          5.316666666666666,
          4.891666666666667,
          4.291666666666667,
          3.975,
          3.7416666666666667,
          3.6916666666666664,
          5.158333333333333,
          6.191666666666666,
          7.091666666666666,
          6.95,
          6.791666666666667,
          7.033333333333334,
          7.083333333333333,
          8.216666666666667,
          13.133333333333333,
          12.191666666666668,
          10.008333333333333,
          9.058333333333334,
          8.725,
          7.233333333333333,
          5.425,
          5.008333333333334,
          4.575,
          4.158333333333333,
          4.05,
          10.05,
          5.766666666666667,
          4.133333333333334,
          3.891666666666667,
          4.291666666666667,
          4.016666666666667,
          3.6666666666666665,
          3.783333333333333,
          3.225,
          2.6750000000000003,
          2.7083333333333335,
          3.033333333333333,
          3.775,
          4.466666666666667,
          4.783333333333333,
          4.583333333333333,
          4.1,
          4.058333333333333,
          4.583333333333333,
          5.433333333333334,
          7.908333333333334,
          7.391666666666667,
          6.5249999999999995,
          5.6499999999999995,
          5.041666666666667,
          4.266666666666667,
          3.7916666666666665,
          3.875,
          3.483333333333333,
          3.025,
          3.275,
          6.283333333333334,
          3.6999999999999997,
          2.533333333333333,
          2.8249999999999997,
          3.0500000000000003,
          6.291666666666667,
          6.2,
          5.991666666666667,
          5.7,
          5.241666666666666,
          5.108333333333333,
          5.325,
          5.491666666666667,
          6.425,
          6.141666666666667,
          6.158333333333334,
          7.6000000000000005,
          6.375,
          6.1499999999999995,
          6.708333333333333,
          9.358333333333333,
          10.083333333333334,
          9.775,
          8.825000000000001,
          8.491666666666665,
          7.591666666666666,
          6.483333333333333,
          5.966666666666666,
          5.233333333333333,
          4.958333333333333,
          5.5,
          8.033333333333333,
          5.458333333333333,
          3.783333333333333,
          3.1999999999999997,
          2.9333333333333336,
          5.175,
          4.825,
          4.708333333333333,
          4.3500000000000005,
          4.033333333333333,
          3.233333333333333,
          3.4166666666666665,
          4.491666666666666,
          5.283333333333333,
          5.658333333333334,
          5.875,
          5.3999999999999995,
          4.875,
          5.083333333333333,
          6.216666666666666,
          9.025,
          9.508333333333333,
          8.641666666666667,
          7.191666666666666,
          6.7749999999999995,
          6.1499999999999995,
          5.108333333333333,
          4.55,
          3.7416666666666667,
          3.2416666666666667,
          3.25,
          6.216666666666666,
          4.141666666666667,
          2.6,
          3.058333333333333,
          3.608333333333333,
          5.491666666666667,
          5.708333333333333,
          5.558333333333334,
          5.5,
          5.608333333333333,
          5.308333333333334,
          4.833333333333333,
          4.608333333333333,
          4.55,
          4.741666666666666,
          4.508333333333334,
          4.066666666666666,
          3.341666666666667,
          3.358333333333333,
          4.7250000000000005,
          7.116666666666667,
          7.183333333333334,
          6.625,
          5.8,
          5.341666666666666,
          4.666666666666667,
          4.291666666666667,
          4.325,
          4.091666666666666,
          3.75,
          3.5,
          5.841666666666666,
          3.4,
          2.6833333333333336,
          2.858333333333333,
          3.2083333333333335,
          2.6166666666666667,
          2.6333333333333333,
          2.6666666666666665,
          2.408333333333333,
          2.5083333333333333,
          2.716666666666667,
          2.7916666666666665,
          3.15,
          3.6833333333333336,
          3.9416666666666664,
          3.908333333333333,
          3.7583333333333333,
          3.0416666666666665,
          2.9250000000000003,
          3.2583333333333333,
          4.658333333333333,
          4.7,
          4.3999999999999995,
          3.8833333333333333,
          3.6750000000000003,
          3.25,
          2.983333333333333,
          3.0666666666666664,
          2.975,
          2.9250000000000003,
          3.125,
          4.2749999999999995,
          2.5833333333333335,
          2.1416666666666666,
          2.2666666666666666,
          2.6166666666666667,
          6.241666666666667,
          5.566666666666666,
          5.058333333333334,
          4.375,
          4.175,
          3.9666666666666663,
          4.116666666666666,
          5.191666666666666,
          5.683333333333334,
          5.283333333333334,
          4.458333333333333,
          4.125,
          4.066666666666666,
          4.591666666666667,
          6.883333333333333,
          11.725,
          13.733333333333334,
          13.316666666666668,
          11.608333333333334,
          9.966666666666667,
          8.158333333333333,
          6.8500000000000005,
          5.808333333333334,
          4.983333333333333,
          4.383333333333334,
          4.1499999999999995,
          13.716666666666667,
          6.833333333333333,
          5.2,
          5.141666666666667,
          5.383333333333333,
          4.491666666666666,
          3.8249999999999997,
          3.7416666666666667,
          3.3666666666666667,
          2.8333333333333335,
          2.75,
          2.65,
          3.391666666666667,
          4.491666666666666,
          4.466666666666667,
          3.8000000000000003,
          3.625,
          3.533333333333333,
          3.525,
          3.766666666666666,
          6.141666666666667,
          6.083333333333333,
          5.45,
          5.466666666666666,
          5.25,
          4.325,
          3.391666666666667,
          2.8833333333333333,
          2.808333333333333,
          2.625,
          2.575,
          6.741666666666667,
          3.408333333333333,
          2.275,
          2.1666666666666665,
          2.5500000000000003,
          6.825,
          6.416666666666667,
          6.116666666666667,
          5.325,
          4.558333333333334,
          4.3999999999999995,
          3.6500000000000004,
          4.233333333333333,
          5.766666666666667,
          5.841666666666666,
          4.925,
          4.441666666666666,
          4.616666666666666,
          4.208333333333333,
          5.45,
          8.933333333333334,
          9.658333333333333,
          9.375,
          9.383333333333335,
          8.375,
          6.733333333333333,
          5.7,
          4.941666666666666,
          4.533333333333333,
          4.008333333333334,
          3.4583333333333335,
          9.475,
          6.708333333333333,
          3.8666666666666667,
          4.416666666666667,
          4.7,
          6.533333333333334,
          6.6499999999999995,
          7.483333333333333,
          6.433333333333334,
          6.241666666666667,
          5.6000000000000005,
          5.0249999999999995,
          4.958333333333333,
          5.483333333333333,
          5.8999999999999995,
          5.558333333333334,
          5.183333333333334,
          4.233333333333333,
          3.591666666666667,
          4.3,
          7.05,
          7.7749999999999995,
          7.216666666666666,
          6.966666666666666,
          6.908333333333334,
          6.591666666666666,
          6.6000000000000005,
          6.75,
          6.041666666666667,
          4.925,
          4.958333333333333,
          7.925,
          7.066666666666666,
          4.058333333333334,
          3.75,
          4.05,
          6.916666666666667,
          6.333333333333333,
          6.258333333333333,
          6.3999999999999995,
          5.6000000000000005,
          5.183333333333334,
          4.508333333333334,
          4.875,
          6.2,
          6.3999999999999995,
          5.791666666666667,
          4.958333333333333,
          4.533333333333333,
          4.433333333333334,
          5.408333333333334,
          8.366666666666667,
          8.716666666666667,
          8.358333333333333,
          8.625,
          7.791666666666667,
          6.291666666666667,
          5.233333333333333,
          4.875,
          4.633333333333334,
          4.1000000000000005,
          3.858333333333333,
          9.891666666666667,
          7.091666666666666,
          4.325,
          4.208333333333333,
          4.341666666666667,
          4.416666666666667,
          4.358333333333333,
          4.341666666666667,
          3.8333333333333335,
          3.533333333333333,
          3.283333333333333,
          3.7583333333333333,
          5.625,
          6.925,
          6.716666666666666,
          5.858333333333333,
          5.6000000000000005,
          5.133333333333334,
          5.091666666666667,
          6.208333333333333,
          11.033333333333333,
          10.716666666666667,
          10.233333333333333,
          9.516666666666667,
          7.733333333333333,
          6.108333333333333,
          5.658333333333334,
          5.1,
          4.5249999999999995,
          3.9916666666666667,
          3.8833333333333333,
          7.283333333333332,
          4.883333333333334,
          3.6833333333333336,
          3.4583333333333335,
          3.6333333333333333,
          3.7083333333333335,
          3.3166666666666664,
          3.141666666666667,
          2.9499999999999997,
          2.9499999999999997,
          3.141666666666667,
          2.9250000000000003,
          2.8333333333333335,
          3.375,
          3.475,
          3.3833333333333333,
          3.3083333333333336,
          3.1,
          3.016666666666667,
          3.108333333333333,
          3.9166666666666665,
          3.6916666666666664,
          3.358333333333333,
          2.9333333333333336,
          2.891666666666666,
          2.6166666666666667,
          2.783333333333333,
          3.1,
          2.6083333333333334,
          2.408333333333333,
          2.1416666666666666,
          4.95,
          3,
          2,
          1.8833333333333335,
          2.1750000000000003,
          5.666666666666667,
          4.866666666666666,
          4.991666666666666,
          4.625,
          4.3500000000000005,
          4.325,
          4.116666666666666,
          4.375,
          5.791666666666667,
          6.216666666666666,
          6.25,
          5.933333333333334,
          5.416666666666667,
          5.608333333333333,
          6.6000000000000005,
          10.141666666666667,
          10.266666666666667,
          8.816666666666666,
          7.408333333333334,
          7.458333333333333,
          5.8,
          4.95,
          5.075,
          4.966666666666667,
          4.5,
          4.175,
          8.266666666666667,
          5.158333333333333,
          3.9916666666666667,
          3.525,
          4.191666666666666,
          5.3,
          4.458333333333333,
          4,
          3.9583333333333335,
          4.075,
          3.466666666666667,
          2.9916666666666667,
          3.625,
          4.625,
          5.408333333333334,
          4.708333333333333,
          4.325,
          3.9166666666666665,
          3.966666666666667,
          3.6166666666666667,
          6.558333333333334,
          6.5,
          5.591666666666666,
          5.116666666666666,
          5.116666666666666,
          4.333333333333333,
          4.291666666666667,
          4.658333333333333,
          4.033333333333333,
          3.2916666666666665,
          3.125,
          6.308333333333334,
          4.033333333333333,
          3.0416666666666665,
          3.216666666666667,
          3.4333333333333336,
          5.308333333333334,
          4.766666666666667,
          5.558333333333334,
          5.55,
          5.641666666666667,
          5.466666666666666,
          5.191666666666666,
          6.375,
          7.4750000000000005,
          8.016666666666667,
          7.341666666666666,
          6.191666666666666,
          5.391666666666667,
          5.158333333333333,
          6.2749999999999995,
          10.791666666666666,
          10.691666666666668,
          9.608333333333333,
          8.808333333333334,
          7.75,
          6.641666666666667,
          5.466666666666666,
          4.75,
          4.058333333333333,
          4.041666666666667,
          3.725,
          7.6000000000000005,
          5.15,
          3.9166666666666665,
          3.7083333333333335,
          4.1000000000000005,
          6.316666666666666,
          5.875,
          5.491666666666667,
          5.141666666666667,
          4.691666666666666,
          4.491666666666666,
          4.225,
          4.808333333333334,
          5.533333333333334,
          5.7,
          5.358333333333333,
          4.983333333333333,
          4.708333333333333,
          4.558333333333334,
          5.3500000000000005,
          7.974999999999999,
          8.166666666666666,
          7.741666666666667,
          7.658333333333334,
          7.1000000000000005,
          5.933333333333334,
          5.391666666666667,
          5.341666666666666,
          4.9750000000000005,
          4.416666666666667,
          4.3,
          8.875,
          5.925,
          4.05,
          3.408333333333333,
          3.4250000000000003,
          6.633333333333333,
          6.316666666666666,
          5.2250000000000005,
          5.325,
          4.541666666666667,
          4.2,
          4,
          4.441666666666666,
          5.108333333333333,
          5.575,
          5.25,
          5.108333333333333,
          5.216666666666667,
          5.108333333333333,
          7.6000000000000005,
          11.391666666666666,
          11.625,
          11.016666666666666,
          10.216666666666667,
          9.475,
          7.766666666666667,
          6.0249999999999995,
          5.241666666666666,
          4.508333333333334,
          4.033333333333333,
          3.533333333333333,
          9.241666666666667,
          5.516666666666667,
          3.1666666666666665,
          2.9416666666666664,
          4.316666666666666,
          6.158333333333334,
          5.1000000000000005,
          5.666666666666667,
          4.5,
          3.6333333333333333,
          4.141666666666667,
          3.733333333333333,
          5.283333333333333,
          6.433333333333334,
          7.191666666666666,
          7.441666666666666,
          7.291666666666667,
          6.875,
          6.066666666666666,
          7.291666666666667,
          11.408333333333333,
          11.299999999999999,
          10.45,
          9.033333333333333,
          7.425,
          6.2749999999999995,
          5.8999999999999995,
          4.916666666666667,
          4.2,
          3.375,
          2.766666666666667,
          5.966666666666666,
          3.9416666666666664,
          3.2083333333333335,
          2.9499999999999997,
          3.858333333333333,
          3.283333333333333,
          3.1833333333333336,
          3.2916666666666665,
          2.9416666666666664,
          2.841666666666667,
          2.725,
          2.533333333333333,
          3,
          3.233333333333333,
          3.475,
          3.608333333333334,
          3.5500000000000003,
          3,
          2.8249999999999997,
          3.0833333333333335,
          4.583333333333333,
          4.908333333333334,
          4.6000000000000005,
          4.058333333333333,
          3.6999999999999997,
          3.3333333333333335,
          3.0500000000000003,
          3.016666666666667,
          3.0500000000000003,
          2.7916666666666665,
          2.766666666666666,
          4.183333333333334,
          2.6166666666666667,
          1.9916666666666665,
          2,
          2,
          4.808333333333334,
          5.158333333333333,
          5.166666666666667,
          5.266666666666667,
          4.3500000000000005,
          3.9583333333333335,
          3.8666666666666667,
          4.516666666666667,
          5.125,
          5.508333333333333,
          5.3500000000000005,
          5.5249999999999995,
          5.275,
          4.633333333333334,
          6.516666666666667,
          10.116666666666667,
          9.825000000000001,
          9.108333333333333,
          7.958333333333333,
          7.7250000000000005,
          6.6000000000000005,
          5.566666666666666,
          4.758333333333334,
          3.75,
          3.5,
          3.3333333333333335,
          7.508333333333333,
          4.466666666666667,
          3.3833333333333333,
          3.2916666666666665,
          3.233333333333333,
          6.566666666666666,
          6.116666666666667,
          5.75,
          5.391666666666667,
          4.966666666666667,
          4.7250000000000005,
          4.383333333333334,
          4.958333333333333,
          6.358333333333333,
          6.733333333333333,
          6.016666666666667,
          5.458333333333333,
          5,
          4.366666666666666,
          4.866666666666666,
          7.541666666666667,
          8.191666666666666,
          8.016666666666667,
          6.708333333333333,
          6.3,
          5.191666666666666,
          4.483333333333333,
          4.6499999999999995,
          4.341666666666667,
          3.9,
          3.525,
          7.7250000000000005,
          5.641666666666667,
          3.9416666666666664,
          3.9499999999999997,
          4.041666666666667,
          3.7416666666666667,
          3.4333333333333336,
          3.375,
          3.1666666666666665,
          3.5583333333333336,
          3.5083333333333333,
          3.3249999999999997,
          4.366666666666666,
          5.666666666666667,
          5.566666666666666,
          5.008333333333334,
          4.041666666666667,
          2.8666666666666667,
          2.558333333333333,
          3.341666666666667,
          7.258333333333333,
          7.933333333333334,
          7.058333333333334,
          4.7749999999999995,
          4.208333333333333,
          3.6333333333333333,
          3.5083333333333333,
          3.35,
          3.1666666666666665,
          2.9166666666666665,
          2.5416666666666665,
          4.841666666666667,
          2.7583333333333333,
          2.3583333333333334,
          2.6416666666666666,
          3.1333333333333333,
          4.4,
          4.166666666666667,
          4.291666666666667,
          3.9416666666666664,
          3.466666666666667,
          3.0749999999999997,
          2.8083333333333336,
          3.2916666666666665,
          3.8333333333333335,
          4.383333333333334,
          3.6750000000000003,
          3.4499999999999997,
          3.716666666666667,
          3.9416666666666664,
          4.566666666666666,
          6.166666666666667,
          6.316666666666666,
          5.566666666666666,
          4.816666666666667,
          4.416666666666667,
          3.9916666666666667,
          3.533333333333333,
          3.125,
          3.0083333333333333,
          2.4833333333333334,
          2.066666666666667,
          5.658333333333334,
          3.5833333333333335,
          2.3249999999999997,
          2.0083333333333333,
          2.225,
          4.8,
          4.45,
          4.316666666666666,
          3.6999999999999997,
          2.775,
          2.6999999999999997,
          2.283333333333333,
          3.283333333333333,
          4.358333333333333,
          4.341666666666667,
          4.083333333333333,
          3.8249999999999997,
          3.341666666666667,
          3.283333333333333,
          4.2749999999999995,
          6.833333333333333,
          7.291666666666667,
          6.541666666666667,
          5.95,
          5.55,
          5.116666666666666,
          4.366666666666666,
          4,
          3.6666666666666665,
          3.0083333333333333,
          2.7583333333333333,
          6.491666666666667,
          3.85,
          2.7583333333333333,
          2.85,
          2.8666666666666667,
          6.291666666666667,
          6.2250000000000005,
          5.908333333333334,
          4.941666666666666,
          4.833333333333333,
          4.825,
          5.091666666666667,
          6.008333333333333,
          7.074999999999999,
          7.233333333333333,
          6.3,
          5.591666666666666,
          5,
          4.6000000000000005,
          5.291666666666667,
          8.266666666666667,
          9.133333333333333,
          8.525,
          7.641666666666667,
          6.633333333333333,
          5.925,
          5.433333333333334,
          5.2250000000000005,
          4.641666666666667,
          4.425,
          4.191666666666666,
          8.533333333333333,
          5.241666666666666,
          4.066666666666666,
          4.075,
          4.741666666666666,
          8.816666666666666,
          7.966666666666666,
          7.6499999999999995,
          6.983333333333333,
          6.683333333333334,
          6.45,
          5.575,
          5.391666666666667,
          6.458333333333333,
          6.566666666666666,
          5.766666666666667,
          5.425,
          5.2,
          4.825,
          4.75,
          8.299999999999999,
          8.633333333333333,
          7.825,
          7.258333333333333,
          6.716666666666666,
          6.5,
          6.583333333333333,
          6.091666666666666,
          5.208333333333333,
          5.166666666666667,
          4.925,
          8.283333333333333,
          5.1499999999999995,
          3.875,
          3.908333333333333,
          4.2250000000000005,
          4.2,
          3.716666666666667,
          3.608333333333333,
          3.475,
          3.283333333333333,
          3.0749999999999997,
          3.391666666666667,
          4.433333333333334,
          5.325,
          5.616666666666667,
          4.9750000000000005,
          4.741666666666666,
          4.675,
          4.825,
          4.983333333333333,
          8.958333333333334,
          8.5,
          7.533333333333332,
          6.925,
          6.641666666666667,
          5.3500000000000005,
          4.425,
          3.908333333333333,
          3.2583333333333333,
          2.975,
          3.2083333333333335,
          6.458333333333333,
          3.858333333333333,
          2.891666666666667,
          3.0500000000000003,
          2.9583333333333335,
          4.883333333333334,
          4.783333333333333,
          5,
          4.783333333333333,
          4.791666666666667,
          4.708333333333333,
          3.75,
          3.8166666666666664,
          4.008333333333334,
          4.325,
          3.841666666666667,
          3.5416666666666665,
          3.0083333333333333,
          2.6916666666666664,
          2.9333333333333336,
          6.258333333333333,
          6.941666666666666,
          6.133333333333333,
          5.5,
          4.733333333333333,
          4.341666666666667,
          4.208333333333333,
          5.333333333333333,
          4.325,
          4.058333333333333,
          3.7083333333333335,
          5.858333333333333,
          4.541666666666667,
          3.4166666666666665,
          2.9166666666666665,
          3
         ]
        }
       ],
       "layout": {
        "coloraxis": {
         "colorbar": {
          "title": {
           "text": "Unemployment Rate"
          }
         },
         "colorscale": [
          [
           0,
           "#440154"
          ],
          [
           0.1111111111111111,
           "#482878"
          ],
          [
           0.2222222222222222,
           "#3e4989"
          ],
          [
           0.3333333333333333,
           "#31688e"
          ],
          [
           0.4444444444444444,
           "#26828e"
          ],
          [
           0.5555555555555556,
           "#1f9e89"
          ],
          [
           0.6666666666666666,
           "#35b779"
          ],
          [
           0.7777777777777778,
           "#6ece58"
          ],
          [
           0.8888888888888888,
           "#b5de2b"
          ],
          [
           1,
           "#fde725"
          ]
         ]
        },
        "geo": {
         "center": {},
         "domain": {
          "x": [
           0,
           1
          ],
          "y": [
           0,
           1
          ]
         },
         "scope": "usa"
        },
        "legend": {
         "tracegroupgap": 0
        },
        "template": {
         "data": {
          "bar": [
           {
            "error_x": {
             "color": "#2a3f5f"
            },
            "error_y": {
             "color": "#2a3f5f"
            },
            "marker": {
             "line": {
              "color": "#E5ECF6",
              "width": 0.5
             },
             "pattern": {
              "fillmode": "overlay",
              "size": 10,
              "solidity": 0.2
             }
            },
            "type": "bar"
           }
          ],
          "barpolar": [
           {
            "marker": {
             "line": {
              "color": "#E5ECF6",
              "width": 0.5
             },
             "pattern": {
              "fillmode": "overlay",
              "size": 10,
              "solidity": 0.2
             }
            },
            "type": "barpolar"
           }
          ],
          "carpet": [
           {
            "aaxis": {
             "endlinecolor": "#2a3f5f",
             "gridcolor": "white",
             "linecolor": "white",
             "minorgridcolor": "white",
             "startlinecolor": "#2a3f5f"
            },
            "baxis": {
             "endlinecolor": "#2a3f5f",
             "gridcolor": "white",
             "linecolor": "white",
             "minorgridcolor": "white",
             "startlinecolor": "#2a3f5f"
            },
            "type": "carpet"
           }
          ],
          "choropleth": [
           {
            "colorbar": {
             "outlinewidth": 0,
             "ticks": ""
            },
            "type": "choropleth"
           }
          ],
          "contour": [
           {
            "colorbar": {
             "outlinewidth": 0,
             "ticks": ""
            },
            "colorscale": [
             [
              0,
              "#0d0887"
             ],
             [
              0.1111111111111111,
              "#46039f"
             ],
             [
              0.2222222222222222,
              "#7201a8"
             ],
             [
              0.3333333333333333,
              "#9c179e"
             ],
             [
              0.4444444444444444,
              "#bd3786"
             ],
             [
              0.5555555555555556,
              "#d8576b"
             ],
             [
              0.6666666666666666,
              "#ed7953"
             ],
             [
              0.7777777777777778,
              "#fb9f3a"
             ],
             [
              0.8888888888888888,
              "#fdca26"
             ],
             [
              1,
              "#f0f921"
             ]
            ],
            "type": "contour"
           }
          ],
          "contourcarpet": [
           {
            "colorbar": {
             "outlinewidth": 0,
             "ticks": ""
            },
            "type": "contourcarpet"
           }
          ],
          "heatmap": [
           {
            "colorbar": {
             "outlinewidth": 0,
             "ticks": ""
            },
            "colorscale": [
             [
              0,
              "#0d0887"
             ],
             [
              0.1111111111111111,
              "#46039f"
             ],
             [
              0.2222222222222222,
              "#7201a8"
             ],
             [
              0.3333333333333333,
              "#9c179e"
             ],
             [
              0.4444444444444444,
              "#bd3786"
             ],
             [
              0.5555555555555556,
              "#d8576b"
             ],
             [
              0.6666666666666666,
              "#ed7953"
             ],
             [
              0.7777777777777778,
              "#fb9f3a"
             ],
             [
              0.8888888888888888,
              "#fdca26"
             ],
             [
              1,
              "#f0f921"
             ]
            ],
            "type": "heatmap"
           }
          ],
          "heatmapgl": [
           {
            "colorbar": {
             "outlinewidth": 0,
             "ticks": ""
            },
            "colorscale": [
             [
              0,
              "#0d0887"
             ],
             [
              0.1111111111111111,
              "#46039f"
             ],
             [
              0.2222222222222222,
              "#7201a8"
             ],
             [
              0.3333333333333333,
              "#9c179e"
             ],
             [
              0.4444444444444444,
              "#bd3786"
             ],
             [
              0.5555555555555556,
              "#d8576b"
             ],
             [
              0.6666666666666666,
              "#ed7953"
             ],
             [
              0.7777777777777778,
              "#fb9f3a"
             ],
             [
              0.8888888888888888,
              "#fdca26"
             ],
             [
              1,
              "#f0f921"
             ]
            ],
            "type": "heatmapgl"
           }
          ],
          "histogram": [
           {
            "marker": {
             "pattern": {
              "fillmode": "overlay",
              "size": 10,
              "solidity": 0.2
             }
            },
            "type": "histogram"
           }
          ],
          "histogram2d": [
           {
            "colorbar": {
             "outlinewidth": 0,
             "ticks": ""
            },
            "colorscale": [
             [
              0,
              "#0d0887"
             ],
             [
              0.1111111111111111,
              "#46039f"
             ],
             [
              0.2222222222222222,
              "#7201a8"
             ],
             [
              0.3333333333333333,
              "#9c179e"
             ],
             [
              0.4444444444444444,
              "#bd3786"
             ],
             [
              0.5555555555555556,
              "#d8576b"
             ],
             [
              0.6666666666666666,
              "#ed7953"
             ],
             [
              0.7777777777777778,
              "#fb9f3a"
             ],
             [
              0.8888888888888888,
              "#fdca26"
             ],
             [
              1,
              "#f0f921"
             ]
            ],
            "type": "histogram2d"
           }
          ],
          "histogram2dcontour": [
           {
            "colorbar": {
             "outlinewidth": 0,
             "ticks": ""
            },
            "colorscale": [
             [
              0,
              "#0d0887"
             ],
             [
              0.1111111111111111,
              "#46039f"
             ],
             [
              0.2222222222222222,
              "#7201a8"
             ],
             [
              0.3333333333333333,
              "#9c179e"
             ],
             [
              0.4444444444444444,
              "#bd3786"
             ],
             [
              0.5555555555555556,
              "#d8576b"
             ],
             [
              0.6666666666666666,
              "#ed7953"
             ],
             [
              0.7777777777777778,
              "#fb9f3a"
             ],
             [
              0.8888888888888888,
              "#fdca26"
             ],
             [
              1,
              "#f0f921"
             ]
            ],
            "type": "histogram2dcontour"
           }
          ],
          "mesh3d": [
           {
            "colorbar": {
             "outlinewidth": 0,
             "ticks": ""
            },
            "type": "mesh3d"
           }
          ],
          "parcoords": [
           {
            "line": {
             "colorbar": {
              "outlinewidth": 0,
              "ticks": ""
             }
            },
            "type": "parcoords"
           }
          ],
          "pie": [
           {
            "automargin": true,
            "type": "pie"
           }
          ],
          "scatter": [
           {
            "fillpattern": {
             "fillmode": "overlay",
             "size": 10,
             "solidity": 0.2
            },
            "type": "scatter"
           }
          ],
          "scatter3d": [
           {
            "line": {
             "colorbar": {
              "outlinewidth": 0,
              "ticks": ""
             }
            },
            "marker": {
             "colorbar": {
              "outlinewidth": 0,
              "ticks": ""
             }
            },
            "type": "scatter3d"
           }
          ],
          "scattercarpet": [
           {
            "marker": {
             "colorbar": {
              "outlinewidth": 0,
              "ticks": ""
             }
            },
            "type": "scattercarpet"
           }
          ],
          "scattergeo": [
           {
            "marker": {
             "colorbar": {
              "outlinewidth": 0,
              "ticks": ""
             }
            },
            "type": "scattergeo"
           }
          ],
          "scattergl": [
           {
            "marker": {
             "colorbar": {
              "outlinewidth": 0,
              "ticks": ""
             }
            },
            "type": "scattergl"
           }
          ],
          "scattermapbox": [
           {
            "marker": {
             "colorbar": {
              "outlinewidth": 0,
              "ticks": ""
             }
            },
            "type": "scattermapbox"
           }
          ],
          "scatterpolar": [
           {
            "marker": {
             "colorbar": {
              "outlinewidth": 0,
              "ticks": ""
             }
            },
            "type": "scatterpolar"
           }
          ],
          "scatterpolargl": [
           {
            "marker": {
             "colorbar": {
              "outlinewidth": 0,
              "ticks": ""
             }
            },
            "type": "scatterpolargl"
           }
          ],
          "scatterternary": [
           {
            "marker": {
             "colorbar": {
              "outlinewidth": 0,
              "ticks": ""
             }
            },
            "type": "scatterternary"
           }
          ],
          "surface": [
           {
            "colorbar": {
             "outlinewidth": 0,
             "ticks": ""
            },
            "colorscale": [
             [
              0,
              "#0d0887"
             ],
             [
              0.1111111111111111,
              "#46039f"
             ],
             [
              0.2222222222222222,
              "#7201a8"
             ],
             [
              0.3333333333333333,
              "#9c179e"
             ],
             [
              0.4444444444444444,
              "#bd3786"
             ],
             [
              0.5555555555555556,
              "#d8576b"
             ],
             [
              0.6666666666666666,
              "#ed7953"
             ],
             [
              0.7777777777777778,
              "#fb9f3a"
             ],
             [
              0.8888888888888888,
              "#fdca26"
             ],
             [
              1,
              "#f0f921"
             ]
            ],
            "type": "surface"
           }
          ],
          "table": [
           {
            "cells": {
             "fill": {
              "color": "#EBF0F8"
             },
             "line": {
              "color": "white"
             }
            },
            "header": {
             "fill": {
              "color": "#C8D4E3"
             },
             "line": {
              "color": "white"
             }
            },
            "type": "table"
           }
          ]
         },
         "layout": {
          "annotationdefaults": {
           "arrowcolor": "#2a3f5f",
           "arrowhead": 0,
           "arrowwidth": 1
          },
          "autotypenumbers": "strict",
          "coloraxis": {
           "colorbar": {
            "outlinewidth": 0,
            "ticks": ""
           }
          },
          "colorscale": {
           "diverging": [
            [
             0,
             "#8e0152"
            ],
            [
             0.1,
             "#c51b7d"
            ],
            [
             0.2,
             "#de77ae"
            ],
            [
             0.3,
             "#f1b6da"
            ],
            [
             0.4,
             "#fde0ef"
            ],
            [
             0.5,
             "#f7f7f7"
            ],
            [
             0.6,
             "#e6f5d0"
            ],
            [
             0.7,
             "#b8e186"
            ],
            [
             0.8,
             "#7fbc41"
            ],
            [
             0.9,
             "#4d9221"
            ],
            [
             1,
             "#276419"
            ]
           ],
           "sequential": [
            [
             0,
             "#0d0887"
            ],
            [
             0.1111111111111111,
             "#46039f"
            ],
            [
             0.2222222222222222,
             "#7201a8"
            ],
            [
             0.3333333333333333,
             "#9c179e"
            ],
            [
             0.4444444444444444,
             "#bd3786"
            ],
            [
             0.5555555555555556,
             "#d8576b"
            ],
            [
             0.6666666666666666,
             "#ed7953"
            ],
            [
             0.7777777777777778,
             "#fb9f3a"
            ],
            [
             0.8888888888888888,
             "#fdca26"
            ],
            [
             1,
             "#f0f921"
            ]
           ],
           "sequentialminus": [
            [
             0,
             "#0d0887"
            ],
            [
             0.1111111111111111,
             "#46039f"
            ],
            [
             0.2222222222222222,
             "#7201a8"
            ],
            [
             0.3333333333333333,
             "#9c179e"
            ],
            [
             0.4444444444444444,
             "#bd3786"
            ],
            [
             0.5555555555555556,
             "#d8576b"
            ],
            [
             0.6666666666666666,
             "#ed7953"
            ],
            [
             0.7777777777777778,
             "#fb9f3a"
            ],
            [
             0.8888888888888888,
             "#fdca26"
            ],
            [
             1,
             "#f0f921"
            ]
           ]
          },
          "colorway": [
           "#636efa",
           "#EF553B",
           "#00cc96",
           "#ab63fa",
           "#FFA15A",
           "#19d3f3",
           "#FF6692",
           "#B6E880",
           "#FF97FF",
           "#FECB52"
          ],
          "font": {
           "color": "#2a3f5f"
          },
          "geo": {
           "bgcolor": "white",
           "lakecolor": "white",
           "landcolor": "#E5ECF6",
           "showlakes": true,
           "showland": true,
           "subunitcolor": "white"
          },
          "hoverlabel": {
           "align": "left"
          },
          "hovermode": "closest",
          "mapbox": {
           "style": "light"
          },
          "paper_bgcolor": "white",
          "plot_bgcolor": "#E5ECF6",
          "polar": {
           "angularaxis": {
            "gridcolor": "white",
            "linecolor": "white",
            "ticks": ""
           },
           "bgcolor": "#E5ECF6",
           "radialaxis": {
            "gridcolor": "white",
            "linecolor": "white",
            "ticks": ""
           }
          },
          "scene": {
           "xaxis": {
            "backgroundcolor": "#E5ECF6",
            "gridcolor": "white",
            "gridwidth": 2,
            "linecolor": "white",
            "showbackground": true,
            "ticks": "",
            "zerolinecolor": "white"
           },
           "yaxis": {
            "backgroundcolor": "#E5ECF6",
            "gridcolor": "white",
            "gridwidth": 2,
            "linecolor": "white",
            "showbackground": true,
            "ticks": "",
            "zerolinecolor": "white"
           },
           "zaxis": {
            "backgroundcolor": "#E5ECF6",
            "gridcolor": "white",
            "gridwidth": 2,
            "linecolor": "white",
            "showbackground": true,
            "ticks": "",
            "zerolinecolor": "white"
           }
          },
          "shapedefaults": {
           "line": {
            "color": "#2a3f5f"
           }
          },
          "ternary": {
           "aaxis": {
            "gridcolor": "white",
            "linecolor": "white",
            "ticks": ""
           },
           "baxis": {
            "gridcolor": "white",
            "linecolor": "white",
            "ticks": ""
           },
           "bgcolor": "#E5ECF6",
           "caxis": {
            "gridcolor": "white",
            "linecolor": "white",
            "ticks": ""
           }
          },
          "title": {
           "x": 0.05
          },
          "xaxis": {
           "automargin": true,
           "gridcolor": "white",
           "linecolor": "white",
           "ticks": "",
           "title": {
            "standoff": 15
           },
           "zerolinecolor": "white",
           "zerolinewidth": 2
          },
          "yaxis": {
           "automargin": true,
           "gridcolor": "white",
           "linecolor": "white",
           "ticks": "",
           "title": {
            "standoff": 15
           },
           "zerolinecolor": "white",
           "zerolinewidth": 2
          }
         }
        },
        "title": {
         "text": "Unemployment Rate by State (2024)"
        }
       }
      },
      "image/png": "[encoded data removed]"
     },
     "metadata": {},
     "output_type": "display_data"
    },
    {
     "data": {
      "application/vnd.plotly.v1+json": {
       "config": {
        "plotlyServerURL": "https://plot.ly"
       },
       "data": [
        {
         "coloraxis": "coloraxis",
         "geo": "geo",
         "hovertemplate": "State=%{location}<br>Establishments=%{z}<extra></extra>",
         "locationmode": "USA-states",
         "locations": [
          "AK",
          "AL",
          "AR",
          "AZ",
          "CA",
          "CO",
          "CT",
          "DC",
          "DE",
          "FL",
          "GA",
          "HI",
          "IA",
          "ID",
          "IL",
          "IN",
          "KS",
          "KY",
          "LA",
          "MA",
          "MD",
          "ME",
          "MI",
          "MN",
          "MO",
          "MS",
          "MT",
          "NC",
          "ND",
          "NE",
          "NH",
          "NJ",
          "NM",
          "NV",
          "NY",
          "OH",
          "OK",
          "OR",
          "PA",
          "RI",
          "SC",
          "SD",
          "TN",
          "TX",
          "UT",
          "VA",
          "VT",
          "WA",
          "WI",
          "WV",
          "WY"
         ],
         "name": "",
         "type": "choropleth",
         "z": [
          44164,
          210142,
          139268,
          319714,
          2046362,
          363926,
          178586,
          47747,
          58390,
          1266706,
          516754,
          65726,
          167120,
          114418,
          644698,
          307496,
          151982,
          187098,
          216322,
          365838,
          284962,
          86370,
          455740,
          308628,
          307534,
          120938,
          84030,
          509272,
          50196,
          112638,
          78696,
          474998,
          89700,
          152786,
          1080542,
          509188,
          191496,
          244794,
          615370,
          58980,
          241538,
          57714,
          295848,
          1314724,
          187412,
          418488,
          41736,
          404010,
          288886,
          71060,
          46392
         ]
        }
       ],
       "layout": {
        "coloraxis": {
         "colorbar": {
          "title": {
           "text": "Establishments"
          }
         },
         "colorscale": [
          [
           0,
           "#0d0887"
          ],
          [
           0.1111111111111111,
           "#46039f"
          ],
          [
           0.2222222222222222,
           "#7201a8"
          ],
          [
           0.3333333333333333,
           "#9c179e"
          ],
          [
           0.4444444444444444,
           "#bd3786"
          ],
          [
           0.5555555555555556,
           "#d8576b"
          ],
          [
           0.6666666666666666,
           "#ed7953"
          ],
          [
           0.7777777777777778,
           "#fb9f3a"
          ],
          [
           0.8888888888888888,
           "#fdca26"
          ],
          [
           1,
           "#f0f921"
          ]
         ]
        },
        "geo": {
         "center": {},
         "domain": {
          "x": [
           0,
           1
          ],
          "y": [
           0,
           1
          ]
         },
         "scope": "usa"
        },
        "legend": {
         "tracegroupgap": 0
        },
        "template": {
         "data": {
          "bar": [
           {
            "error_x": {
             "color": "#2a3f5f"
            },
            "error_y": {
             "color": "#2a3f5f"
            },
            "marker": {
             "line": {
              "color": "#E5ECF6",
              "width": 0.5
             },
             "pattern": {
              "fillmode": "overlay",
              "size": 10,
              "solidity": 0.2
             }
            },
            "type": "bar"
           }
          ],
          "barpolar": [
           {
            "marker": {
             "line": {
              "color": "#E5ECF6",
              "width": 0.5
             },
             "pattern": {
              "fillmode": "overlay",
              "size": 10,
              "solidity": 0.2
             }
            },
            "type": "barpolar"
           }
          ],
          "carpet": [
           {
            "aaxis": {
             "endlinecolor": "#2a3f5f",
             "gridcolor": "white",
             "linecolor": "white",
             "minorgridcolor": "white",
             "startlinecolor": "#2a3f5f"
            },
            "baxis": {
             "endlinecolor": "#2a3f5f",
             "gridcolor": "white",
             "linecolor": "white",
             "minorgridcolor": "white",
             "startlinecolor": "#2a3f5f"
            },
            "type": "carpet"
           }
          ],
          "choropleth": [
           {
            "colorbar": {
             "outlinewidth": 0,
             "ticks": ""
            },
            "type": "choropleth"
           }
          ],
          "contour": [
           {
            "colorbar": {
             "outlinewidth": 0,
             "ticks": ""
            },
            "colorscale": [
             [
              0,
              "#0d0887"
             ],
             [
              0.1111111111111111,
              "#46039f"
             ],
             [
              0.2222222222222222,
              "#7201a8"
             ],
             [
              0.3333333333333333,
              "#9c179e"
             ],
             [
              0.4444444444444444,
              "#bd3786"
             ],
             [
              0.5555555555555556,
              "#d8576b"
             ],
             [
              0.6666666666666666,
              "#ed7953"
             ],
             [
              0.7777777777777778,
              "#fb9f3a"
             ],
             [
              0.8888888888888888,
              "#fdca26"
             ],
             [
              1,
              "#f0f921"
             ]
            ],
            "type": "contour"
           }
          ],
          "contourcarpet": [
           {
            "colorbar": {
             "outlinewidth": 0,
             "ticks": ""
            },
            "type": "contourcarpet"
           }
          ],
          "heatmap": [
           {
            "colorbar": {
             "outlinewidth": 0,
             "ticks": ""
            },
            "colorscale": [
             [
              0,
              "#0d0887"
             ],
             [
              0.1111111111111111,
              "#46039f"
             ],
             [
              0.2222222222222222,
              "#7201a8"
             ],
             [
              0.3333333333333333,
              "#9c179e"
             ],
             [
              0.4444444444444444,
              "#bd3786"
             ],
             [
              0.5555555555555556,
              "#d8576b"
             ],
             [
              0.6666666666666666,
              "#ed7953"
             ],
             [
              0.7777777777777778,
              "#fb9f3a"
             ],
             [
              0.8888888888888888,
              "#fdca26"
             ],
             [
              1,
              "#f0f921"
             ]
            ],
            "type": "heatmap"
           }
          ],
          "heatmapgl": [
           {
            "colorbar": {
             "outlinewidth": 0,
             "ticks": ""
            },
            "colorscale": [
             [
              0,
              "#0d0887"
             ],
             [
              0.1111111111111111,
              "#46039f"
             ],
             [
              0.2222222222222222,
              "#7201a8"
             ],
             [
              0.3333333333333333,
              "#9c179e"
             ],
             [
              0.4444444444444444,
              "#bd3786"
             ],
             [
              0.5555555555555556,
              "#d8576b"
             ],
             [
              0.6666666666666666,
              "#ed7953"
             ],
             [
              0.7777777777777778,
              "#fb9f3a"
             ],
             [
              0.8888888888888888,
              "#fdca26"
             ],
             [
              1,
              "#f0f921"
             ]
            ],
            "type": "heatmapgl"
           }
          ],
          "histogram": [
           {
            "marker": {
             "pattern": {
              "fillmode": "overlay",
              "size": 10,
              "solidity": 0.2
             }
            },
            "type": "histogram"
           }
          ],
          "histogram2d": [
           {
            "colorbar": {
             "outlinewidth": 0,
             "ticks": ""
            },
            "colorscale": [
             [
              0,
              "#0d0887"
             ],
             [
              0.1111111111111111,
              "#46039f"
             ],
             [
              0.2222222222222222,
              "#7201a8"
             ],
             [
              0.3333333333333333,
              "#9c179e"
             ],
             [
              0.4444444444444444,
              "#bd3786"
             ],
             [
              0.5555555555555556,
              "#d8576b"
             ],
             [
              0.6666666666666666,
              "#ed7953"
             ],
             [
              0.7777777777777778,
              "#fb9f3a"
             ],
             [
              0.8888888888888888,
              "#fdca26"
             ],
             [
              1,
              "#f0f921"
             ]
            ],
            "type": "histogram2d"
           }
          ],
          "histogram2dcontour": [
           {
            "colorbar": {
             "outlinewidth": 0,
             "ticks": ""
            },
            "colorscale": [
             [
              0,
              "#0d0887"
             ],
             [
              0.1111111111111111,
              "#46039f"
             ],
             [
              0.2222222222222222,
              "#7201a8"
             ],
             [
              0.3333333333333333,
              "#9c179e"
             ],
             [
              0.4444444444444444,
              "#bd3786"
             ],
             [
              0.5555555555555556,
              "#d8576b"
             ],
             [
              0.6666666666666666,
              "#ed7953"
             ],
             [
              0.7777777777777778,
              "#fb9f3a"
             ],
             [
              0.8888888888888888,
              "#fdca26"
             ],
             [
              1,
              "#f0f921"
             ]
            ],
            "type": "histogram2dcontour"
           }
          ],
          "mesh3d": [
           {
            "colorbar": {
             "outlinewidth": 0,
             "ticks": ""
            },
            "type": "mesh3d"
           }
          ],
          "parcoords": [
           {
            "line": {
             "colorbar": {
              "outlinewidth": 0,
              "ticks": ""
             }
            },
            "type": "parcoords"
           }
          ],
          "pie": [
           {
            "automargin": true,
            "type": "pie"
           }
          ],
          "scatter": [
           {
            "fillpattern": {
             "fillmode": "overlay",
             "size": 10,
             "solidity": 0.2
            },
            "type": "scatter"
           }
          ],
          "scatter3d": [
           {
            "line": {
             "colorbar": {
              "outlinewidth": 0,
              "ticks": ""
             }
            },
            "marker": {
             "colorbar": {
              "outlinewidth": 0,
              "ticks": ""
             }
            },
            "type": "scatter3d"
           }
          ],
          "scattercarpet": [
           {
            "marker": {
             "colorbar": {
              "outlinewidth": 0,
              "ticks": ""
             }
            },
            "type": "scattercarpet"
           }
          ],
          "scattergeo": [
           {
            "marker": {
             "colorbar": {
              "outlinewidth": 0,
              "ticks": ""
             }
            },
            "type": "scattergeo"
           }
          ],
          "scattergl": [
           {
            "marker": {
             "colorbar": {
              "outlinewidth": 0,
              "ticks": ""
             }
            },
            "type": "scattergl"
           }
          ],
          "scattermapbox": [
           {
            "marker": {
             "colorbar": {
              "outlinewidth": 0,
              "ticks": ""
             }
            },
            "type": "scattermapbox"
           }
          ],
          "scatterpolar": [
           {
            "marker": {
             "colorbar": {
              "outlinewidth": 0,
              "ticks": ""
             }
            },
            "type": "scatterpolar"
           }
          ],
          "scatterpolargl": [
           {
            "marker": {
             "colorbar": {
              "outlinewidth": 0,
              "ticks": ""
             }
            },
            "type": "scatterpolargl"
           }
          ],
          "scatterternary": [
           {
            "marker": {
             "colorbar": {
              "outlinewidth": 0,
              "ticks": ""
             }
            },
            "type": "scatterternary"
           }
          ],
          "surface": [
           {
            "colorbar": {
             "outlinewidth": 0,
             "ticks": ""
            },
            "colorscale": [
             [
              0,
              "#0d0887"
             ],
             [
              0.1111111111111111,
              "#46039f"
             ],
             [
              0.2222222222222222,
              "#7201a8"
             ],
             [
              0.3333333333333333,
              "#9c179e"
             ],
             [
              0.4444444444444444,
              "#bd3786"
             ],
             [
              0.5555555555555556,
              "#d8576b"
             ],
             [
              0.6666666666666666,
              "#ed7953"
             ],
             [
              0.7777777777777778,
              "#fb9f3a"
             ],
             [
              0.8888888888888888,
              "#fdca26"
             ],
             [
              1,
              "#f0f921"
             ]
            ],
            "type": "surface"
           }
          ],
          "table": [
           {
            "cells": {
             "fill": {
              "color": "#EBF0F8"
             },
             "line": {
              "color": "white"
             }
            },
            "header": {
             "fill": {
              "color": "#C8D4E3"
             },
             "line": {
              "color": "white"
             }
            },
            "type": "table"
           }
          ]
         },
         "layout": {
          "annotationdefaults": {
           "arrowcolor": "#2a3f5f",
           "arrowhead": 0,
           "arrowwidth": 1
          },
          "autotypenumbers": "strict",
          "coloraxis": {
           "colorbar": {
            "outlinewidth": 0,
            "ticks": ""
           }
          },
          "colorscale": {
           "diverging": [
            [
             0,
             "#8e0152"
            ],
            [
             0.1,
             "#c51b7d"
            ],
            [
             0.2,
             "#de77ae"
            ],
            [
             0.3,
             "#f1b6da"
            ],
            [
             0.4,
             "#fde0ef"
            ],
            [
             0.5,
             "#f7f7f7"
            ],
            [
             0.6,
             "#e6f5d0"
            ],
            [
             0.7,
             "#b8e186"
            ],
            [
             0.8,
             "#7fbc41"
            ],
            [
             0.9,
             "#4d9221"
            ],
            [
             1,
             "#276419"
            ]
           ],
           "sequential": [
            [
             0,
             "#0d0887"
            ],
            [
             0.1111111111111111,
             "#46039f"
            ],
            [
             0.2222222222222222,
             "#7201a8"
            ],
            [
             0.3333333333333333,
             "#9c179e"
            ],
            [
             0.4444444444444444,
             "#bd3786"
            ],
            [
             0.5555555555555556,
             "#d8576b"
            ],
            [
             0.6666666666666666,
             "#ed7953"
            ],
            [
             0.7777777777777778,
             "#fb9f3a"
            ],
            [
             0.8888888888888888,
             "#fdca26"
            ],
            [
             1,
             "#f0f921"
            ]
           ],
           "sequentialminus": [
            [
             0,
             "#0d0887"
            ],
            [
             0.1111111111111111,
             "#46039f"
            ],
            [
             0.2222222222222222,
             "#7201a8"
            ],
            [
             0.3333333333333333,
             "#9c179e"
            ],
            [
             0.4444444444444444,
             "#bd3786"
            ],
            [
             0.5555555555555556,
             "#d8576b"
            ],
            [
             0.6666666666666666,
             "#ed7953"
            ],
            [
             0.7777777777777778,
             "#fb9f3a"
            ],
            [
             0.8888888888888888,
             "#fdca26"
            ],
            [
             1,
             "#f0f921"
            ]
           ]
          },
          "colorway": [
           "#636efa",
           "#EF553B",
           "#00cc96",
           "#ab63fa",
           "#FFA15A",
           "#19d3f3",
           "#FF6692",
           "#B6E880",
           "#FF97FF",
           "#FECB52"
          ],
          "font": {
           "color": "#2a3f5f"
          },
          "geo": {
           "bgcolor": "white",
           "lakecolor": "white",
           "landcolor": "#E5ECF6",
           "showlakes": true,
           "showland": true,
           "subunitcolor": "white"
          },
          "hoverlabel": {
           "align": "left"
          },
          "hovermode": "closest",
          "mapbox": {
           "style": "light"
          },
          "paper_bgcolor": "white",
          "plot_bgcolor": "#E5ECF6",
          "polar": {
           "angularaxis": {
            "gridcolor": "white",
            "linecolor": "white",
            "ticks": ""
           },
           "bgcolor": "#E5ECF6",
           "radialaxis": {
            "gridcolor": "white",
            "linecolor": "white",
            "ticks": ""
           }
          },
          "scene": {
           "xaxis": {
            "backgroundcolor": "#E5ECF6",
            "gridcolor": "white",
            "gridwidth": 2,
            "linecolor": "white",
            "showbackground": true,
            "ticks": "",
            "zerolinecolor": "white"
           },
           "yaxis": {
            "backgroundcolor": "#E5ECF6",
            "gridcolor": "white",
            "gridwidth": 2,
            "linecolor": "white",
            "showbackground": true,
            "ticks": "",
            "zerolinecolor": "white"
           },
           "zaxis": {
            "backgroundcolor": "#E5ECF6",
            "gridcolor": "white",
            "gridwidth": 2,
            "linecolor": "white",
            "showbackground": true,
            "ticks": "",
            "zerolinecolor": "white"
           }
          },
          "shapedefaults": {
           "line": {
            "color": "#2a3f5f"
           }
          },
          "ternary": {
           "aaxis": {
            "gridcolor": "white",
            "linecolor": "white",
            "ticks": ""
           },
           "baxis": {
            "gridcolor": "white",
            "linecolor": "white",
            "ticks": ""
           },
           "bgcolor": "#E5ECF6",
           "caxis": {
            "gridcolor": "white",
            "linecolor": "white",
            "ticks": ""
           }
          },
          "title": {
           "x": 0.05
          },
          "xaxis": {
           "automargin": true,
           "gridcolor": "white",
           "linecolor": "white",
           "ticks": "",
           "title": {
            "standoff": 15
           },
           "zerolinecolor": "white",
           "zerolinewidth": 2
          },
          "yaxis": {
           "automargin": true,
           "gridcolor": "white",
           "linecolor": "white",
           "ticks": "",
           "title": {
            "standoff": 15
           },
           "zerolinecolor": "white",
           "zerolinewidth": 2
          }
         }
        },
        "title": {
         "text": "Total Establishments per State (2022)"
        }
       }
      },
      "image/png": "[encoded data removed]"
     },
     "metadata": {},
     "output_type": "display_data"
    },
    {
     "data": {
      "application/vnd.plotly.v1+json": {
       "config": {
        "plotlyServerURL": "https://plot.ly"
       },
       "data": [
        {
         "coloraxis": "coloraxis",
         "geo": "geo",
         "hovertemplate": "State=%{location}<br>Survival Rate=%{z}<extra></extra>",
         "locationmode": "USA-states",
         "locations": [
          "AK",
          "AL",
          "AR",
          "AZ",
          "CA",
          "CO",
          "CT",
          "DC",
          "DE",
          "FL",
          "GA",
          "HI",
          "IA",
          "ID",
          "IL",
          "IN",
          "KS",
          "KY",
          "LA",
          "MA",
          "MD",
          "ME",
          "MI",
          "MN",
          "MO",
          "MS",
          "MT",
          "NC",
          "ND",
          "NE",
          "NH",
          "NJ",
          "NM",
          "NV",
          "NY",
          "OH",
          "OK",
          "OR",
          "PA",
          "RI",
          "SC",
          "SD",
          "TN",
          "TX",
          "UT",
          "VA",
          "VT",
          "WA",
          "WI",
          "WV",
          "WY"
         ],
         "name": "",
         "type": "choropleth",
         "z": [
          89.54872605805485,
          89.31406861708247,
          88.43444354497534,
          88.24975100834662,
          88.11009545080216,
          88.20581159501927,
          89.56428444913412,
          86.64406005275056,
          88.42256325701246,
          87.37298139223462,
          88.64692340703004,
          89.99483673846682,
          90.41156201619938,
          88.69841367695972,
          89.76042419889856,
          89.6370994660089,
          88.94571036471646,
          89.5252423465704,
          89.36466713525728,
          90.10772607560004,
          88.74194275767641,
          89.99423655280063,
          89.5827245140816,
          90.17684273899818,
          88.8205416988973,
          88.94398237239763,
          90.45173014632455,
          89.65524056581945,
          90.28559386242672,
          89.83877890072606,
          88.65200508084983,
          88.30321404551002,
          88.07896115042163,
          88.25081358826229,
          88.46511316248568,
          90.0244842222037,
          88.89401956909333,
          89.06772644266994,
          90.58827276052574,
          88.7001057067048,
          89.0731942137244,
          90.7821596439706,
          88.46463759432186,
          89.4327582405714,
          88.26046836073667,
          88.82138813169693,
          89.81522549188134,
          86.69005121650613,
          90.8032487419169,
          89.39339363069095,
          88.87470298312175
         ]
        }
       ],
       "layout": {
        "coloraxis": {
         "colorbar": {
          "title": {
           "text": "Survival Rate"
          }
         },
         "colorscale": [
          [
           0,
           "#000004"
          ],
          [
           0.1111111111111111,
           "#180f3d"
          ],
          [
           0.2222222222222222,
           "#440f76"
          ],
          [
           0.3333333333333333,
           "#721f81"
          ],
          [
           0.4444444444444444,
           "#9e2f7f"
          ],
          [
           0.5555555555555556,
           "#cd4071"
          ],
          [
           0.6666666666666666,
           "#f1605d"
          ],
          [
           0.7777777777777778,
           "#fd9668"
          ],
          [
           0.8888888888888888,
           "#feca8d"
          ],
          [
           1,
           "#fcfdbf"
          ]
         ]
        },
        "geo": {
         "center": {},
         "domain": {
          "x": [
           0,
           1
          ],
          "y": [
           0,
           1
          ]
         },
         "scope": "usa"
        },
        "legend": {
         "tracegroupgap": 0
        },
        "template": {
         "data": {
          "bar": [
           {
            "error_x": {
             "color": "#2a3f5f"
            },
            "error_y": {
             "color": "#2a3f5f"
            },
            "marker": {
             "line": {
              "color": "#E5ECF6",
              "width": 0.5
             },
             "pattern": {
              "fillmode": "overlay",
              "size": 10,
              "solidity": 0.2
             }
            },
            "type": "bar"
           }
          ],
          "barpolar": [
           {
            "marker": {
             "line": {
              "color": "#E5ECF6",
              "width": 0.5
             },
             "pattern": {
              "fillmode": "overlay",
              "size": 10,
              "solidity": 0.2
             }
            },
            "type": "barpolar"
           }
          ],
          "carpet": [
           {
            "aaxis": {
             "endlinecolor": "#2a3f5f",
             "gridcolor": "white",
             "linecolor": "white",
             "minorgridcolor": "white",
             "startlinecolor": "#2a3f5f"
            },
            "baxis": {
             "endlinecolor": "#2a3f5f",
             "gridcolor": "white",
             "linecolor": "white",
             "minorgridcolor": "white",
             "startlinecolor": "#2a3f5f"
            },
            "type": "carpet"
           }
          ],
          "choropleth": [
           {
            "colorbar": {
             "outlinewidth": 0,
             "ticks": ""
            },
            "type": "choropleth"
           }
          ],
          "contour": [
           {
            "colorbar": {
             "outlinewidth": 0,
             "ticks": ""
            },
            "colorscale": [
             [
              0,
              "#0d0887"
             ],
             [
              0.1111111111111111,
              "#46039f"
             ],
             [
              0.2222222222222222,
              "#7201a8"
             ],
             [
              0.3333333333333333,
              "#9c179e"
             ],
             [
              0.4444444444444444,
              "#bd3786"
             ],
             [
              0.5555555555555556,
              "#d8576b"
             ],
             [
              0.6666666666666666,
              "#ed7953"
             ],
             [
              0.7777777777777778,
              "#fb9f3a"
             ],
             [
              0.8888888888888888,
              "#fdca26"
             ],
             [
              1,
              "#f0f921"
             ]
            ],
            "type": "contour"
           }
          ],
          "contourcarpet": [
           {
            "colorbar": {
             "outlinewidth": 0,
             "ticks": ""
            },
            "type": "contourcarpet"
           }
          ],
          "heatmap": [
           {
            "colorbar": {
             "outlinewidth": 0,
             "ticks": ""
            },
            "colorscale": [
             [
              0,
              "#0d0887"
             ],
             [
              0.1111111111111111,
              "#46039f"
             ],
             [
              0.2222222222222222,
              "#7201a8"
             ],
             [
              0.3333333333333333,
              "#9c179e"
             ],
             [
              0.4444444444444444,
              "#bd3786"
             ],
             [
              0.5555555555555556,
              "#d8576b"
             ],
             [
              0.6666666666666666,
              "#ed7953"
             ],
             [
              0.7777777777777778,
              "#fb9f3a"
             ],
             [
              0.8888888888888888,
              "#fdca26"
             ],
             [
              1,
              "#f0f921"
             ]
            ],
            "type": "heatmap"
           }
          ],
          "heatmapgl": [
           {
            "colorbar": {
             "outlinewidth": 0,
             "ticks": ""
            },
            "colorscale": [
             [
              0,
              "#0d0887"
             ],
             [
              0.1111111111111111,
              "#46039f"
             ],
             [
              0.2222222222222222,
              "#7201a8"
             ],
             [
              0.3333333333333333,
              "#9c179e"
             ],
             [
              0.4444444444444444,
              "#bd3786"
             ],
             [
              0.5555555555555556,
              "#d8576b"
             ],
             [
              0.6666666666666666,
              "#ed7953"
             ],
             [
              0.7777777777777778,
              "#fb9f3a"
             ],
             [
              0.8888888888888888,
              "#fdca26"
             ],
             [
              1,
              "#f0f921"
             ]
            ],
            "type": "heatmapgl"
           }
          ],
          "histogram": [
           {
            "marker": {
             "pattern": {
              "fillmode": "overlay",
              "size": 10,
              "solidity": 0.2
             }
            },
            "type": "histogram"
           }
          ],
          "histogram2d": [
           {
            "colorbar": {
             "outlinewidth": 0,
             "ticks": ""
            },
            "colorscale": [
             [
              0,
              "#0d0887"
             ],
             [
              0.1111111111111111,
              "#46039f"
             ],
             [
              0.2222222222222222,
              "#7201a8"
             ],
             [
              0.3333333333333333,
              "#9c179e"
             ],
             [
              0.4444444444444444,
              "#bd3786"
             ],
             [
              0.5555555555555556,
              "#d8576b"
             ],
             [
              0.6666666666666666,
              "#ed7953"
             ],
             [
              0.7777777777777778,
              "#fb9f3a"
             ],
             [
              0.8888888888888888,
              "#fdca26"
             ],
             [
              1,
              "#f0f921"
             ]
            ],
            "type": "histogram2d"
           }
          ],
          "histogram2dcontour": [
           {
            "colorbar": {
             "outlinewidth": 0,
             "ticks": ""
            },
            "colorscale": [
             [
              0,
              "#0d0887"
             ],
             [
              0.1111111111111111,
              "#46039f"
             ],
             [
              0.2222222222222222,
              "#7201a8"
             ],
             [
              0.3333333333333333,
              "#9c179e"
             ],
             [
              0.4444444444444444,
              "#bd3786"
             ],
             [
              0.5555555555555556,
              "#d8576b"
             ],
             [
              0.6666666666666666,
              "#ed7953"
             ],
             [
              0.7777777777777778,
              "#fb9f3a"
             ],
             [
              0.8888888888888888,
              "#fdca26"
             ],
             [
              1,
              "#f0f921"
             ]
            ],
            "type": "histogram2dcontour"
           }
          ],
          "mesh3d": [
           {
            "colorbar": {
             "outlinewidth": 0,
             "ticks": ""
            },
            "type": "mesh3d"
           }
          ],
          "parcoords": [
           {
            "line": {
             "colorbar": {
              "outlinewidth": 0,
              "ticks": ""
             }
            },
            "type": "parcoords"
           }
          ],
          "pie": [
           {
            "automargin": true,
            "type": "pie"
           }
          ],
          "scatter": [
           {
            "fillpattern": {
             "fillmode": "overlay",
             "size": 10,
             "solidity": 0.2
            },
            "type": "scatter"
           }
          ],
          "scatter3d": [
           {
            "line": {
             "colorbar": {
              "outlinewidth": 0,
              "ticks": ""
             }
            },
            "marker": {
             "colorbar": {
              "outlinewidth": 0,
              "ticks": ""
             }
            },
            "type": "scatter3d"
           }
          ],
          "scattercarpet": [
           {
            "marker": {
             "colorbar": {
              "outlinewidth": 0,
              "ticks": ""
             }
            },
            "type": "scattercarpet"
           }
          ],
          "scattergeo": [
           {
            "marker": {
             "colorbar": {
              "outlinewidth": 0,
              "ticks": ""
             }
            },
            "type": "scattergeo"
           }
          ],
          "scattergl": [
           {
            "marker": {
             "colorbar": {
              "outlinewidth": 0,
              "ticks": ""
             }
            },
            "type": "scattergl"
           }
          ],
          "scattermapbox": [
           {
            "marker": {
             "colorbar": {
              "outlinewidth": 0,
              "ticks": ""
             }
            },
            "type": "scattermapbox"
           }
          ],
          "scatterpolar": [
           {
            "marker": {
             "colorbar": {
              "outlinewidth": 0,
              "ticks": ""
             }
            },
            "type": "scatterpolar"
           }
          ],
          "scatterpolargl": [
           {
            "marker": {
             "colorbar": {
              "outlinewidth": 0,
              "ticks": ""
             }
            },
            "type": "scatterpolargl"
           }
          ],
          "scatterternary": [
           {
            "marker": {
             "colorbar": {
              "outlinewidth": 0,
              "ticks": ""
             }
            },
            "type": "scatterternary"
           }
          ],
          "surface": [
           {
            "colorbar": {
             "outlinewidth": 0,
             "ticks": ""
            },
            "colorscale": [
             [
              0,
              "#0d0887"
             ],
             [
              0.1111111111111111,
              "#46039f"
             ],
             [
              0.2222222222222222,
              "#7201a8"
             ],
             [
              0.3333333333333333,
              "#9c179e"
             ],
             [
              0.4444444444444444,
              "#bd3786"
             ],
             [
              0.5555555555555556,
              "#d8576b"
             ],
             [
              0.6666666666666666,
              "#ed7953"
             ],
             [
              0.7777777777777778,
              "#fb9f3a"
             ],
             [
              0.8888888888888888,
              "#fdca26"
             ],
             [
              1,
              "#f0f921"
             ]
            ],
            "type": "surface"
           }
          ],
          "table": [
           {
            "cells": {
             "fill": {
              "color": "#EBF0F8"
             },
             "line": {
              "color": "white"
             }
            },
            "header": {
             "fill": {
              "color": "#C8D4E3"
             },
             "line": {
              "color": "white"
             }
            },
            "type": "table"
           }
          ]
         },
         "layout": {
          "annotationdefaults": {
           "arrowcolor": "#2a3f5f",
           "arrowhead": 0,
           "arrowwidth": 1
          },
          "autotypenumbers": "strict",
          "coloraxis": {
           "colorbar": {
            "outlinewidth": 0,
            "ticks": ""
           }
          },
          "colorscale": {
           "diverging": [
            [
             0,
             "#8e0152"
            ],
            [
             0.1,
             "#c51b7d"
            ],
            [
             0.2,
             "#de77ae"
            ],
            [
             0.3,
             "#f1b6da"
            ],
            [
             0.4,
             "#fde0ef"
            ],
            [
             0.5,
             "#f7f7f7"
            ],
            [
             0.6,
             "#e6f5d0"
            ],
            [
             0.7,
             "#b8e186"
            ],
            [
             0.8,
             "#7fbc41"
            ],
            [
             0.9,
             "#4d9221"
            ],
            [
             1,
             "#276419"
            ]
           ],
           "sequential": [
            [
             0,
             "#0d0887"
            ],
            [
             0.1111111111111111,
             "#46039f"
            ],
            [
             0.2222222222222222,
             "#7201a8"
            ],
            [
             0.3333333333333333,
             "#9c179e"
            ],
            [
             0.4444444444444444,
             "#bd3786"
            ],
            [
             0.5555555555555556,
             "#d8576b"
            ],
            [
             0.6666666666666666,
             "#ed7953"
            ],
            [
             0.7777777777777778,
             "#fb9f3a"
            ],
            [
             0.8888888888888888,
             "#fdca26"
            ],
            [
             1,
             "#f0f921"
            ]
           ],
           "sequentialminus": [
            [
             0,
             "#0d0887"
            ],
            [
             0.1111111111111111,
             "#46039f"
            ],
            [
             0.2222222222222222,
             "#7201a8"
            ],
            [
             0.3333333333333333,
             "#9c179e"
            ],
            [
             0.4444444444444444,
             "#bd3786"
            ],
            [
             0.5555555555555556,
             "#d8576b"
            ],
            [
             0.6666666666666666,
             "#ed7953"
            ],
            [
             0.7777777777777778,
             "#fb9f3a"
            ],
            [
             0.8888888888888888,
             "#fdca26"
            ],
            [
             1,
             "#f0f921"
            ]
           ]
          },
          "colorway": [
           "#636efa",
           "#EF553B",
           "#00cc96",
           "#ab63fa",
           "#FFA15A",
           "#19d3f3",
           "#FF6692",
           "#B6E880",
           "#FF97FF",
           "#FECB52"
          ],
          "font": {
           "color": "#2a3f5f"
          },
          "geo": {
           "bgcolor": "white",
           "lakecolor": "white",
           "landcolor": "#E5ECF6",
           "showlakes": true,
           "showland": true,
           "subunitcolor": "white"
          },
          "hoverlabel": {
           "align": "left"
          },
          "hovermode": "closest",
          "mapbox": {
           "style": "light"
          },
          "paper_bgcolor": "white",
          "plot_bgcolor": "#E5ECF6",
          "polar": {
           "angularaxis": {
            "gridcolor": "white",
            "linecolor": "white",
            "ticks": ""
           },
           "bgcolor": "#E5ECF6",
           "radialaxis": {
            "gridcolor": "white",
            "linecolor": "white",
            "ticks": ""
           }
          },
          "scene": {
           "xaxis": {
            "backgroundcolor": "#E5ECF6",
            "gridcolor": "white",
            "gridwidth": 2,
            "linecolor": "white",
            "showbackground": true,
            "ticks": "",
            "zerolinecolor": "white"
           },
           "yaxis": {
            "backgroundcolor": "#E5ECF6",
            "gridcolor": "white",
            "gridwidth": 2,
            "linecolor": "white",
            "showbackground": true,
            "ticks": "",
            "zerolinecolor": "white"
           },
           "zaxis": {
            "backgroundcolor": "#E5ECF6",
            "gridcolor": "white",
            "gridwidth": 2,
            "linecolor": "white",
            "showbackground": true,
            "ticks": "",
            "zerolinecolor": "white"
           }
          },
          "shapedefaults": {
           "line": {
            "color": "#2a3f5f"
           }
          },
          "ternary": {
           "aaxis": {
            "gridcolor": "white",
            "linecolor": "white",
            "ticks": ""
           },
           "baxis": {
            "gridcolor": "white",
            "linecolor": "white",
            "ticks": ""
           },
           "bgcolor": "#E5ECF6",
           "caxis": {
            "gridcolor": "white",
            "linecolor": "white",
            "ticks": ""
           }
          },
          "title": {
           "x": 0.05
          },
          "xaxis": {
           "automargin": true,
           "gridcolor": "white",
           "linecolor": "white",
           "ticks": "",
           "title": {
            "standoff": 15
           },
           "zerolinecolor": "white",
           "zerolinewidth": 2
          },
          "yaxis": {
           "automargin": true,
           "gridcolor": "white",
           "linecolor": "white",
           "ticks": "",
           "title": {
            "standoff": 15
           },
           "zerolinecolor": "white",
           "zerolinewidth": 2
          }
         }
        },
        "title": {
         "text": "Average Survival Rates by State (2024)"
        }
       }
      },
      "image/png": "[encoded data removed]"
     },
     "metadata": {},
     "output_type": "display_data"
    }
   ],
   "source": [
    "\n",
    "fig_unemp.show()\n",
    "fig_est.show()\n",
    "fig_surv.show()\n",
    "\n",
    "conn.close()"
   ]
  },
  {
   "cell_type": "code",
   "execution_count": null,
   "id": "2fd19083-cb65-496f-bfd4-d3f84bbe90aa",
   "metadata": {},
   "outputs": [],
   "source": []
  }
 ],
 "metadata": {
  "kernelspec": {
   "display_name": "Python 3 (ipykernel)",
   "language": "python",
   "name": "python3"
  },
  "language_info": {
   "codemirror_mode": {
    "name": "ipython",
    "version": 3
   },
   "file_extension": ".py",
   "mimetype": "text/x-python",
   "name": "python",
   "nbconvert_exporter": "python",
   "pygments_lexer": "ipython3",
   "version": "3.12.3"
  }
 },
 "nbformat": 4,
 "nbformat_minor": 5
}
